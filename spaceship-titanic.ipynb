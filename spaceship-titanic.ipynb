{
 "cells": [
  {
   "cell_type": "code",
   "execution_count": 72,
   "id": "7a8b1776-3f36-403e-98a0-e7f559712145",
   "metadata": {},
   "outputs": [],
   "source": [
    "import pandas as pd\n",
    "import torch\n",
    "from torch import nn, optim, tensor\n",
    "import torch.nn.functional as F\n",
    "\n",
    "from torch.utils.data import Dataset, DataLoader\n",
    "import numpy as np\n",
    "\n",
    "from torch.optim.lr_scheduler import CosineAnnealingLR \n",
    "\n",
    "from tqdm import tqdm\n",
    "\n",
    "import matplotlib.pyplot as plt\n",
    "\n",
    "from IPython.display import display, clear_output, update_display\n",
    "\n",
    "import warnings\n",
    "warnings.simplefilter(action='ignore', category=FutureWarning)"
   ]
  },
  {
   "cell_type": "code",
   "execution_count": 73,
   "id": "379f6f1b-61ef-4cfa-b244-bdcf8ec36f47",
   "metadata": {},
   "outputs": [],
   "source": [
    "from pathlib import Path"
   ]
  },
  {
   "cell_type": "code",
   "execution_count": 74,
   "id": "72d26677-4ef1-4400-be58-21a8f2bdaf41",
   "metadata": {},
   "outputs": [],
   "source": [
    "dftraining = pd.read_csv(Path('./data/spaceship-titanic/train.csv'))\n",
    "dftest = pd.read_csv(Path('./data/spaceship-titanic/test.csv'))"
   ]
  },
  {
   "cell_type": "code",
   "execution_count": 75,
   "id": "551ac655-0a14-4e9d-875d-1fc5bc9d3c86",
   "metadata": {},
   "outputs": [
    {
     "data": {
      "text/html": [
       "<div>\n",
       "<style scoped>\n",
       "    .dataframe tbody tr th:only-of-type {\n",
       "        vertical-align: middle;\n",
       "    }\n",
       "\n",
       "    .dataframe tbody tr th {\n",
       "        vertical-align: top;\n",
       "    }\n",
       "\n",
       "    .dataframe thead th {\n",
       "        text-align: right;\n",
       "    }\n",
       "</style>\n",
       "<table border=\"1\" class=\"dataframe\">\n",
       "  <thead>\n",
       "    <tr style=\"text-align: right;\">\n",
       "      <th></th>\n",
       "      <th>PassengerId</th>\n",
       "      <th>HomePlanet</th>\n",
       "      <th>CryoSleep</th>\n",
       "      <th>Cabin</th>\n",
       "      <th>Destination</th>\n",
       "      <th>Age</th>\n",
       "      <th>VIP</th>\n",
       "      <th>RoomService</th>\n",
       "      <th>FoodCourt</th>\n",
       "      <th>ShoppingMall</th>\n",
       "      <th>Spa</th>\n",
       "      <th>VRDeck</th>\n",
       "      <th>Name</th>\n",
       "      <th>Transported</th>\n",
       "    </tr>\n",
       "  </thead>\n",
       "  <tbody>\n",
       "    <tr>\n",
       "      <th>0</th>\n",
       "      <td>0001_01</td>\n",
       "      <td>Europa</td>\n",
       "      <td>False</td>\n",
       "      <td>B/0/P</td>\n",
       "      <td>TRAPPIST-1e</td>\n",
       "      <td>39.0</td>\n",
       "      <td>False</td>\n",
       "      <td>0.0</td>\n",
       "      <td>0.0</td>\n",
       "      <td>0.0</td>\n",
       "      <td>0.0</td>\n",
       "      <td>0.0</td>\n",
       "      <td>Maham Ofracculy</td>\n",
       "      <td>False</td>\n",
       "    </tr>\n",
       "    <tr>\n",
       "      <th>1</th>\n",
       "      <td>0002_01</td>\n",
       "      <td>Earth</td>\n",
       "      <td>False</td>\n",
       "      <td>F/0/S</td>\n",
       "      <td>TRAPPIST-1e</td>\n",
       "      <td>24.0</td>\n",
       "      <td>False</td>\n",
       "      <td>109.0</td>\n",
       "      <td>9.0</td>\n",
       "      <td>25.0</td>\n",
       "      <td>549.0</td>\n",
       "      <td>44.0</td>\n",
       "      <td>Juanna Vines</td>\n",
       "      <td>True</td>\n",
       "    </tr>\n",
       "    <tr>\n",
       "      <th>2</th>\n",
       "      <td>0003_01</td>\n",
       "      <td>Europa</td>\n",
       "      <td>False</td>\n",
       "      <td>A/0/S</td>\n",
       "      <td>TRAPPIST-1e</td>\n",
       "      <td>58.0</td>\n",
       "      <td>True</td>\n",
       "      <td>43.0</td>\n",
       "      <td>3576.0</td>\n",
       "      <td>0.0</td>\n",
       "      <td>6715.0</td>\n",
       "      <td>49.0</td>\n",
       "      <td>Altark Susent</td>\n",
       "      <td>False</td>\n",
       "    </tr>\n",
       "    <tr>\n",
       "      <th>3</th>\n",
       "      <td>0003_02</td>\n",
       "      <td>Europa</td>\n",
       "      <td>False</td>\n",
       "      <td>A/0/S</td>\n",
       "      <td>TRAPPIST-1e</td>\n",
       "      <td>33.0</td>\n",
       "      <td>False</td>\n",
       "      <td>0.0</td>\n",
       "      <td>1283.0</td>\n",
       "      <td>371.0</td>\n",
       "      <td>3329.0</td>\n",
       "      <td>193.0</td>\n",
       "      <td>Solam Susent</td>\n",
       "      <td>False</td>\n",
       "    </tr>\n",
       "    <tr>\n",
       "      <th>4</th>\n",
       "      <td>0004_01</td>\n",
       "      <td>Earth</td>\n",
       "      <td>False</td>\n",
       "      <td>F/1/S</td>\n",
       "      <td>TRAPPIST-1e</td>\n",
       "      <td>16.0</td>\n",
       "      <td>False</td>\n",
       "      <td>303.0</td>\n",
       "      <td>70.0</td>\n",
       "      <td>151.0</td>\n",
       "      <td>565.0</td>\n",
       "      <td>2.0</td>\n",
       "      <td>Willy Santantines</td>\n",
       "      <td>True</td>\n",
       "    </tr>\n",
       "  </tbody>\n",
       "</table>\n",
       "</div>"
      ],
      "text/plain": [
       "  PassengerId HomePlanet CryoSleep  Cabin  Destination   Age    VIP  \\\n",
       "0     0001_01     Europa     False  B/0/P  TRAPPIST-1e  39.0  False   \n",
       "1     0002_01      Earth     False  F/0/S  TRAPPIST-1e  24.0  False   \n",
       "2     0003_01     Europa     False  A/0/S  TRAPPIST-1e  58.0   True   \n",
       "3     0003_02     Europa     False  A/0/S  TRAPPIST-1e  33.0  False   \n",
       "4     0004_01      Earth     False  F/1/S  TRAPPIST-1e  16.0  False   \n",
       "\n",
       "   RoomService  FoodCourt  ShoppingMall     Spa  VRDeck               Name  \\\n",
       "0          0.0        0.0           0.0     0.0     0.0    Maham Ofracculy   \n",
       "1        109.0        9.0          25.0   549.0    44.0       Juanna Vines   \n",
       "2         43.0     3576.0           0.0  6715.0    49.0      Altark Susent   \n",
       "3          0.0     1283.0         371.0  3329.0   193.0       Solam Susent   \n",
       "4        303.0       70.0         151.0   565.0     2.0  Willy Santantines   \n",
       "\n",
       "   Transported  \n",
       "0        False  \n",
       "1         True  \n",
       "2        False  \n",
       "3        False  \n",
       "4         True  "
      ]
     },
     "execution_count": 75,
     "metadata": {},
     "output_type": "execute_result"
    }
   ],
   "source": [
    "dftraining.head()"
   ]
  },
  {
   "cell_type": "code",
   "execution_count": 76,
   "id": "3098f519-cdbf-4557-91f2-0e371e92aee9",
   "metadata": {},
   "outputs": [
    {
     "data": {
      "text/html": [
       "<div>\n",
       "<style scoped>\n",
       "    .dataframe tbody tr th:only-of-type {\n",
       "        vertical-align: middle;\n",
       "    }\n",
       "\n",
       "    .dataframe tbody tr th {\n",
       "        vertical-align: top;\n",
       "    }\n",
       "\n",
       "    .dataframe thead th {\n",
       "        text-align: right;\n",
       "    }\n",
       "</style>\n",
       "<table border=\"1\" class=\"dataframe\">\n",
       "  <thead>\n",
       "    <tr style=\"text-align: right;\">\n",
       "      <th></th>\n",
       "      <th>PassengerId</th>\n",
       "      <th>HomePlanet</th>\n",
       "      <th>CryoSleep</th>\n",
       "      <th>Cabin</th>\n",
       "      <th>Destination</th>\n",
       "      <th>Age</th>\n",
       "      <th>VIP</th>\n",
       "      <th>RoomService</th>\n",
       "      <th>FoodCourt</th>\n",
       "      <th>ShoppingMall</th>\n",
       "      <th>Spa</th>\n",
       "      <th>VRDeck</th>\n",
       "      <th>Name</th>\n",
       "      <th>Transported</th>\n",
       "    </tr>\n",
       "  </thead>\n",
       "  <tbody>\n",
       "    <tr>\n",
       "      <th>0</th>\n",
       "      <td>0001_01</td>\n",
       "      <td>Earth</td>\n",
       "      <td>False</td>\n",
       "      <td>G/734/S</td>\n",
       "      <td>TRAPPIST-1e</td>\n",
       "      <td>24.0</td>\n",
       "      <td>False</td>\n",
       "      <td>0.0</td>\n",
       "      <td>0.0</td>\n",
       "      <td>0.0</td>\n",
       "      <td>0.0</td>\n",
       "      <td>0.0</td>\n",
       "      <td>Alraium Disivering</td>\n",
       "      <td>True</td>\n",
       "    </tr>\n",
       "    <tr>\n",
       "      <th>1</th>\n",
       "      <td>0002_01</td>\n",
       "      <td>NaN</td>\n",
       "      <td>NaN</td>\n",
       "      <td>NaN</td>\n",
       "      <td>NaN</td>\n",
       "      <td>NaN</td>\n",
       "      <td>NaN</td>\n",
       "      <td>NaN</td>\n",
       "      <td>NaN</td>\n",
       "      <td>NaN</td>\n",
       "      <td>NaN</td>\n",
       "      <td>NaN</td>\n",
       "      <td>Ankalik Nateansive</td>\n",
       "      <td>NaN</td>\n",
       "    </tr>\n",
       "    <tr>\n",
       "      <th>2</th>\n",
       "      <td>0003_01</td>\n",
       "      <td>NaN</td>\n",
       "      <td>NaN</td>\n",
       "      <td>NaN</td>\n",
       "      <td>NaN</td>\n",
       "      <td>NaN</td>\n",
       "      <td>NaN</td>\n",
       "      <td>NaN</td>\n",
       "      <td>NaN</td>\n",
       "      <td>NaN</td>\n",
       "      <td>NaN</td>\n",
       "      <td>NaN</td>\n",
       "      <td>Anton Woody</td>\n",
       "      <td>NaN</td>\n",
       "    </tr>\n",
       "    <tr>\n",
       "      <th>3</th>\n",
       "      <td>0003_02</td>\n",
       "      <td>NaN</td>\n",
       "      <td>NaN</td>\n",
       "      <td>NaN</td>\n",
       "      <td>NaN</td>\n",
       "      <td>NaN</td>\n",
       "      <td>NaN</td>\n",
       "      <td>NaN</td>\n",
       "      <td>NaN</td>\n",
       "      <td>NaN</td>\n",
       "      <td>NaN</td>\n",
       "      <td>NaN</td>\n",
       "      <td>Apix Wala</td>\n",
       "      <td>NaN</td>\n",
       "    </tr>\n",
       "    <tr>\n",
       "      <th>4</th>\n",
       "      <td>0004_01</td>\n",
       "      <td>NaN</td>\n",
       "      <td>NaN</td>\n",
       "      <td>NaN</td>\n",
       "      <td>NaN</td>\n",
       "      <td>NaN</td>\n",
       "      <td>NaN</td>\n",
       "      <td>NaN</td>\n",
       "      <td>NaN</td>\n",
       "      <td>NaN</td>\n",
       "      <td>NaN</td>\n",
       "      <td>NaN</td>\n",
       "      <td>Asch Stradick</td>\n",
       "      <td>NaN</td>\n",
       "    </tr>\n",
       "    <tr>\n",
       "      <th>...</th>\n",
       "      <td>...</td>\n",
       "      <td>...</td>\n",
       "      <td>...</td>\n",
       "      <td>...</td>\n",
       "      <td>...</td>\n",
       "      <td>...</td>\n",
       "      <td>...</td>\n",
       "      <td>...</td>\n",
       "      <td>...</td>\n",
       "      <td>...</td>\n",
       "      <td>...</td>\n",
       "      <td>...</td>\n",
       "      <td>...</td>\n",
       "      <td>...</td>\n",
       "    </tr>\n",
       "    <tr>\n",
       "      <th>8688</th>\n",
       "      <td>9276_01</td>\n",
       "      <td>NaN</td>\n",
       "      <td>NaN</td>\n",
       "      <td>NaN</td>\n",
       "      <td>NaN</td>\n",
       "      <td>NaN</td>\n",
       "      <td>NaN</td>\n",
       "      <td>NaN</td>\n",
       "      <td>NaN</td>\n",
       "      <td>NaN</td>\n",
       "      <td>NaN</td>\n",
       "      <td>NaN</td>\n",
       "      <td>NaN</td>\n",
       "      <td>NaN</td>\n",
       "    </tr>\n",
       "    <tr>\n",
       "      <th>8689</th>\n",
       "      <td>9278_01</td>\n",
       "      <td>NaN</td>\n",
       "      <td>NaN</td>\n",
       "      <td>NaN</td>\n",
       "      <td>NaN</td>\n",
       "      <td>NaN</td>\n",
       "      <td>NaN</td>\n",
       "      <td>NaN</td>\n",
       "      <td>NaN</td>\n",
       "      <td>NaN</td>\n",
       "      <td>NaN</td>\n",
       "      <td>NaN</td>\n",
       "      <td>NaN</td>\n",
       "      <td>NaN</td>\n",
       "    </tr>\n",
       "    <tr>\n",
       "      <th>8690</th>\n",
       "      <td>9279_01</td>\n",
       "      <td>NaN</td>\n",
       "      <td>NaN</td>\n",
       "      <td>NaN</td>\n",
       "      <td>NaN</td>\n",
       "      <td>NaN</td>\n",
       "      <td>NaN</td>\n",
       "      <td>NaN</td>\n",
       "      <td>NaN</td>\n",
       "      <td>NaN</td>\n",
       "      <td>NaN</td>\n",
       "      <td>NaN</td>\n",
       "      <td>NaN</td>\n",
       "      <td>NaN</td>\n",
       "    </tr>\n",
       "    <tr>\n",
       "      <th>8691</th>\n",
       "      <td>9280_01</td>\n",
       "      <td>NaN</td>\n",
       "      <td>NaN</td>\n",
       "      <td>NaN</td>\n",
       "      <td>NaN</td>\n",
       "      <td>NaN</td>\n",
       "      <td>NaN</td>\n",
       "      <td>NaN</td>\n",
       "      <td>NaN</td>\n",
       "      <td>NaN</td>\n",
       "      <td>NaN</td>\n",
       "      <td>NaN</td>\n",
       "      <td>NaN</td>\n",
       "      <td>NaN</td>\n",
       "    </tr>\n",
       "    <tr>\n",
       "      <th>8692</th>\n",
       "      <td>9280_02</td>\n",
       "      <td>NaN</td>\n",
       "      <td>NaN</td>\n",
       "      <td>NaN</td>\n",
       "      <td>NaN</td>\n",
       "      <td>NaN</td>\n",
       "      <td>NaN</td>\n",
       "      <td>NaN</td>\n",
       "      <td>NaN</td>\n",
       "      <td>NaN</td>\n",
       "      <td>NaN</td>\n",
       "      <td>NaN</td>\n",
       "      <td>NaN</td>\n",
       "      <td>NaN</td>\n",
       "    </tr>\n",
       "  </tbody>\n",
       "</table>\n",
       "<p>8693 rows × 14 columns</p>\n",
       "</div>"
      ],
      "text/plain": [
       "     PassengerId HomePlanet CryoSleep    Cabin  Destination   Age    VIP  \\\n",
       "0        0001_01      Earth     False  G/734/S  TRAPPIST-1e  24.0  False   \n",
       "1        0002_01        NaN       NaN      NaN          NaN   NaN    NaN   \n",
       "2        0003_01        NaN       NaN      NaN          NaN   NaN    NaN   \n",
       "3        0003_02        NaN       NaN      NaN          NaN   NaN    NaN   \n",
       "4        0004_01        NaN       NaN      NaN          NaN   NaN    NaN   \n",
       "...          ...        ...       ...      ...          ...   ...    ...   \n",
       "8688     9276_01        NaN       NaN      NaN          NaN   NaN    NaN   \n",
       "8689     9278_01        NaN       NaN      NaN          NaN   NaN    NaN   \n",
       "8690     9279_01        NaN       NaN      NaN          NaN   NaN    NaN   \n",
       "8691     9280_01        NaN       NaN      NaN          NaN   NaN    NaN   \n",
       "8692     9280_02        NaN       NaN      NaN          NaN   NaN    NaN   \n",
       "\n",
       "      RoomService  FoodCourt  ShoppingMall  Spa  VRDeck                Name  \\\n",
       "0             0.0        0.0           0.0  0.0     0.0  Alraium Disivering   \n",
       "1             NaN        NaN           NaN  NaN     NaN  Ankalik Nateansive   \n",
       "2             NaN        NaN           NaN  NaN     NaN         Anton Woody   \n",
       "3             NaN        NaN           NaN  NaN     NaN           Apix Wala   \n",
       "4             NaN        NaN           NaN  NaN     NaN       Asch Stradick   \n",
       "...           ...        ...           ...  ...     ...                 ...   \n",
       "8688          NaN        NaN           NaN  NaN     NaN                 NaN   \n",
       "8689          NaN        NaN           NaN  NaN     NaN                 NaN   \n",
       "8690          NaN        NaN           NaN  NaN     NaN                 NaN   \n",
       "8691          NaN        NaN           NaN  NaN     NaN                 NaN   \n",
       "8692          NaN        NaN           NaN  NaN     NaN                 NaN   \n",
       "\n",
       "     Transported  \n",
       "0           True  \n",
       "1            NaN  \n",
       "2            NaN  \n",
       "3            NaN  \n",
       "4            NaN  \n",
       "...          ...  \n",
       "8688         NaN  \n",
       "8689         NaN  \n",
       "8690         NaN  \n",
       "8691         NaN  \n",
       "8692         NaN  \n",
       "\n",
       "[8693 rows x 14 columns]"
      ]
     },
     "execution_count": 76,
     "metadata": {},
     "output_type": "execute_result"
    }
   ],
   "source": [
    "dftraining.mode()"
   ]
  },
  {
   "cell_type": "code",
   "execution_count": 140,
   "id": "307e0d86-0d93-42ac-b1d6-3b26590dd5cf",
   "metadata": {},
   "outputs": [
    {
     "data": {
      "text/plain": [
       "PassengerId     0\n",
       "HomePlanet      0\n",
       "CryoSleep       0\n",
       "Cabin           0\n",
       "Destination     0\n",
       "Age             0\n",
       "VIP             0\n",
       "RoomService     0\n",
       "FoodCourt       0\n",
       "ShoppingMall    0\n",
       "Spa             0\n",
       "VRDeck          0\n",
       "Name            0\n",
       "Transported     0\n",
       "dtype: int64"
      ]
     },
     "execution_count": 140,
     "metadata": {},
     "output_type": "execute_result"
    }
   ],
   "source": [
    "dftraining.fillna(dftraining.mode().iloc[0]).isna().sum()"
   ]
  },
  {
   "cell_type": "code",
   "execution_count": 220,
   "id": "370b2969-a912-4d9d-a965-42ea56aa2555",
   "metadata": {},
   "outputs": [],
   "source": [
    "cats = ['HomePlanet', 'Cabin', 'Destination']\n",
    "conts = ['CryoSleep', 'Age', 'RoomService', 'FoodCourt', 'ShoppingMall', 'Spa', 'VRDeck']"
   ]
  },
  {
   "cell_type": "code",
   "execution_count": 221,
   "id": "17a3db80-99f3-4e5c-96cc-58eef0244b0b",
   "metadata": {},
   "outputs": [
    {
     "data": {
      "text/plain": [
       "array(['B', 'F', 'A', 'G', nan, 'E', 'D', 'C', 'T'], dtype=object)"
      ]
     },
     "execution_count": 221,
     "metadata": {},
     "output_type": "execute_result"
    }
   ],
   "source": [
    "dftraining['Cabin'].str[0].unique()"
   ]
  },
  {
   "cell_type": "code",
   "execution_count": 222,
   "id": "1efb3bf5-135e-4303-8e21-331372c5cb33",
   "metadata": {},
   "outputs": [
    {
     "data": {
      "text/plain": [
       "array(['TRAPPIST-1e', 'PSO J318.5-22', '55 Cancri e', nan], dtype=object)"
      ]
     },
     "execution_count": 222,
     "metadata": {},
     "output_type": "execute_result"
    }
   ],
   "source": [
    "dftraining['Destination'].unique()"
   ]
  },
  {
   "cell_type": "code",
   "execution_count": 223,
   "id": "8917b58d-c1ae-4cae-a4f5-5c601bea006e",
   "metadata": {},
   "outputs": [],
   "source": [
    "def clean_df(df, fillmode='median'):\n",
    "    df = df.drop(['PassengerId', 'Name'], axis = 1)\n",
    "    \n",
    "    df['Cabin_first']= df['Cabin'].str[0]\n",
    "    df['Cabin_last'] = df['Cabin'].str[-1]\n",
    "    \n",
    "    catskeep = [item for item in cats if item != \"Cabin\"]\n",
    "    df = df.drop(\"Cabin\", axis=1)\n",
    "    df = pd.get_dummies(df, columns=catskeep + ['Cabin_first', 'Cabin_last'])\n",
    "    \n",
    "    fill_method = getattr(df, fillmode)\n",
    "    if fillmode == 'mode':\n",
    "        df = df.fillna(df.mode().iloc[0])\n",
    "    else:\n",
    "        df = df.fillna(fill_method())\n",
    "    \n",
    "    for cont in conts:\n",
    "        df[cont] = np.log1p(df[cont].astype(float))\n",
    "    \n",
    "    return df"
   ]
  },
  {
   "cell_type": "code",
   "execution_count": 224,
   "id": "85258172-836c-4496-b0ca-ea7ba47f8b4a",
   "metadata": {},
   "outputs": [
    {
     "data": {
      "text/html": [
       "<div>\n",
       "<style scoped>\n",
       "    .dataframe tbody tr th:only-of-type {\n",
       "        vertical-align: middle;\n",
       "    }\n",
       "\n",
       "    .dataframe tbody tr th {\n",
       "        vertical-align: top;\n",
       "    }\n",
       "\n",
       "    .dataframe thead th {\n",
       "        text-align: right;\n",
       "    }\n",
       "</style>\n",
       "<table border=\"1\" class=\"dataframe\">\n",
       "  <thead>\n",
       "    <tr style=\"text-align: right;\">\n",
       "      <th></th>\n",
       "      <th>CryoSleep</th>\n",
       "      <th>Age</th>\n",
       "      <th>VIP</th>\n",
       "      <th>RoomService</th>\n",
       "      <th>FoodCourt</th>\n",
       "      <th>ShoppingMall</th>\n",
       "      <th>Spa</th>\n",
       "      <th>VRDeck</th>\n",
       "      <th>Transported</th>\n",
       "      <th>HomePlanet_Earth</th>\n",
       "      <th>...</th>\n",
       "      <th>Cabin_first_A</th>\n",
       "      <th>Cabin_first_B</th>\n",
       "      <th>Cabin_first_C</th>\n",
       "      <th>Cabin_first_D</th>\n",
       "      <th>Cabin_first_E</th>\n",
       "      <th>Cabin_first_F</th>\n",
       "      <th>Cabin_first_G</th>\n",
       "      <th>Cabin_first_T</th>\n",
       "      <th>Cabin_last_P</th>\n",
       "      <th>Cabin_last_S</th>\n",
       "    </tr>\n",
       "  </thead>\n",
       "  <tbody>\n",
       "    <tr>\n",
       "      <th>0</th>\n",
       "      <td>0.0</td>\n",
       "      <td>3.688879</td>\n",
       "      <td>0.0</td>\n",
       "      <td>0.000000</td>\n",
       "      <td>0.000000</td>\n",
       "      <td>0.000000</td>\n",
       "      <td>0.000000</td>\n",
       "      <td>0.000000</td>\n",
       "      <td>0.0</td>\n",
       "      <td>0.0</td>\n",
       "      <td>...</td>\n",
       "      <td>0.0</td>\n",
       "      <td>1.0</td>\n",
       "      <td>0.0</td>\n",
       "      <td>0.0</td>\n",
       "      <td>0.0</td>\n",
       "      <td>0.0</td>\n",
       "      <td>0.0</td>\n",
       "      <td>0.0</td>\n",
       "      <td>1.0</td>\n",
       "      <td>0.0</td>\n",
       "    </tr>\n",
       "    <tr>\n",
       "      <th>1</th>\n",
       "      <td>0.0</td>\n",
       "      <td>3.218876</td>\n",
       "      <td>0.0</td>\n",
       "      <td>4.700480</td>\n",
       "      <td>2.302585</td>\n",
       "      <td>3.258097</td>\n",
       "      <td>6.309918</td>\n",
       "      <td>3.806662</td>\n",
       "      <td>1.0</td>\n",
       "      <td>1.0</td>\n",
       "      <td>...</td>\n",
       "      <td>0.0</td>\n",
       "      <td>0.0</td>\n",
       "      <td>0.0</td>\n",
       "      <td>0.0</td>\n",
       "      <td>0.0</td>\n",
       "      <td>1.0</td>\n",
       "      <td>0.0</td>\n",
       "      <td>0.0</td>\n",
       "      <td>0.0</td>\n",
       "      <td>1.0</td>\n",
       "    </tr>\n",
       "    <tr>\n",
       "      <th>2</th>\n",
       "      <td>0.0</td>\n",
       "      <td>4.077537</td>\n",
       "      <td>1.0</td>\n",
       "      <td>3.784190</td>\n",
       "      <td>8.182280</td>\n",
       "      <td>0.000000</td>\n",
       "      <td>8.812248</td>\n",
       "      <td>3.912023</td>\n",
       "      <td>0.0</td>\n",
       "      <td>0.0</td>\n",
       "      <td>...</td>\n",
       "      <td>1.0</td>\n",
       "      <td>0.0</td>\n",
       "      <td>0.0</td>\n",
       "      <td>0.0</td>\n",
       "      <td>0.0</td>\n",
       "      <td>0.0</td>\n",
       "      <td>0.0</td>\n",
       "      <td>0.0</td>\n",
       "      <td>0.0</td>\n",
       "      <td>1.0</td>\n",
       "    </tr>\n",
       "    <tr>\n",
       "      <th>3</th>\n",
       "      <td>0.0</td>\n",
       "      <td>3.526361</td>\n",
       "      <td>0.0</td>\n",
       "      <td>0.000000</td>\n",
       "      <td>7.157735</td>\n",
       "      <td>5.918894</td>\n",
       "      <td>8.110728</td>\n",
       "      <td>5.267858</td>\n",
       "      <td>0.0</td>\n",
       "      <td>0.0</td>\n",
       "      <td>...</td>\n",
       "      <td>1.0</td>\n",
       "      <td>0.0</td>\n",
       "      <td>0.0</td>\n",
       "      <td>0.0</td>\n",
       "      <td>0.0</td>\n",
       "      <td>0.0</td>\n",
       "      <td>0.0</td>\n",
       "      <td>0.0</td>\n",
       "      <td>0.0</td>\n",
       "      <td>1.0</td>\n",
       "    </tr>\n",
       "    <tr>\n",
       "      <th>4</th>\n",
       "      <td>0.0</td>\n",
       "      <td>2.833213</td>\n",
       "      <td>0.0</td>\n",
       "      <td>5.717028</td>\n",
       "      <td>4.262680</td>\n",
       "      <td>5.023881</td>\n",
       "      <td>6.338594</td>\n",
       "      <td>1.098612</td>\n",
       "      <td>1.0</td>\n",
       "      <td>1.0</td>\n",
       "      <td>...</td>\n",
       "      <td>0.0</td>\n",
       "      <td>0.0</td>\n",
       "      <td>0.0</td>\n",
       "      <td>0.0</td>\n",
       "      <td>0.0</td>\n",
       "      <td>1.0</td>\n",
       "      <td>0.0</td>\n",
       "      <td>0.0</td>\n",
       "      <td>0.0</td>\n",
       "      <td>1.0</td>\n",
       "    </tr>\n",
       "  </tbody>\n",
       "</table>\n",
       "<p>5 rows × 25 columns</p>\n",
       "</div>"
      ],
      "text/plain": [
       "   CryoSleep       Age  VIP  RoomService  FoodCourt  ShoppingMall       Spa  \\\n",
       "0        0.0  3.688879  0.0     0.000000   0.000000      0.000000  0.000000   \n",
       "1        0.0  3.218876  0.0     4.700480   2.302585      3.258097  6.309918   \n",
       "2        0.0  4.077537  1.0     3.784190   8.182280      0.000000  8.812248   \n",
       "3        0.0  3.526361  0.0     0.000000   7.157735      5.918894  8.110728   \n",
       "4        0.0  2.833213  0.0     5.717028   4.262680      5.023881  6.338594   \n",
       "\n",
       "     VRDeck  Transported  HomePlanet_Earth  ...  Cabin_first_A  Cabin_first_B  \\\n",
       "0  0.000000          0.0               0.0  ...            0.0            1.0   \n",
       "1  3.806662          1.0               1.0  ...            0.0            0.0   \n",
       "2  3.912023          0.0               0.0  ...            1.0            0.0   \n",
       "3  5.267858          0.0               0.0  ...            1.0            0.0   \n",
       "4  1.098612          1.0               1.0  ...            0.0            0.0   \n",
       "\n",
       "   Cabin_first_C  Cabin_first_D  Cabin_first_E  Cabin_first_F  Cabin_first_G  \\\n",
       "0            0.0            0.0            0.0            0.0            0.0   \n",
       "1            0.0            0.0            0.0            1.0            0.0   \n",
       "2            0.0            0.0            0.0            0.0            0.0   \n",
       "3            0.0            0.0            0.0            0.0            0.0   \n",
       "4            0.0            0.0            0.0            1.0            0.0   \n",
       "\n",
       "   Cabin_first_T  Cabin_last_P  Cabin_last_S  \n",
       "0            0.0           1.0           0.0  \n",
       "1            0.0           0.0           1.0  \n",
       "2            0.0           0.0           1.0  \n",
       "3            0.0           0.0           1.0  \n",
       "4            0.0           0.0           1.0  \n",
       "\n",
       "[5 rows x 25 columns]"
      ]
     },
     "execution_count": 224,
     "metadata": {},
     "output_type": "execute_result"
    }
   ],
   "source": [
    "clean_df(dftraining).astype(float).head()"
   ]
  },
  {
   "cell_type": "code",
   "execution_count": 225,
   "id": "53b5f2bc",
   "metadata": {},
   "outputs": [],
   "source": [
    "def split_df(df, split=0.8):\n",
    "    train = df.sample(frac=split)\n",
    "    valid = df.drop(train.index)\n",
    "    return train, valid"
   ]
  },
  {
   "cell_type": "code",
   "execution_count": 226,
   "id": "7b5b908f-5062-4c56-b331-35a22301fee0",
   "metadata": {},
   "outputs": [],
   "source": [
    "class SpaceTitanic(Dataset):\n",
    "    def __init__(self, df, fillmode='median', train=True):\n",
    "        self.train = train\n",
    "        self.clean_ds = clean_df(df, fillmode)\n",
    "\n",
    "        self.device = device\n",
    "        \n",
    "    def __getitem__(self, i):\n",
    "        row = self.clean_ds.iloc[i].astype(np.float32)\n",
    "        if not self.train: return tensor(row)\n",
    "        x = tensor(row.drop(labels=['Transported']))\n",
    "        y = tensor(row.loc(axis=0)['Transported'])\n",
    "        return x, y\n",
    "        \n",
    "    def __len__(self):\n",
    "        return len(self.clean_ds)"
   ]
  },
  {
   "cell_type": "code",
   "execution_count": 227,
   "id": "33e421af-da31-4e97-ad2c-372a5a6825fe",
   "metadata": {},
   "outputs": [],
   "source": [
    "class Block(nn.Module):\n",
    "    def __init__(self, n_in, n_out):\n",
    "        super().__init__()\n",
    "        self.net = nn.Sequential(\n",
    "            nn.BatchNorm1d(n_in),\n",
    "            nn.Linear(n_in, n_out),\n",
    "            nn.LeakyReLU(0.1),\n",
    "            nn.Dropout(0.15)\n",
    "        )\n",
    "        \n",
    "    def forward(self, x):\n",
    "        return self.net(x)\n",
    "\n",
    "class SpaceTitanicModel(nn.Module):\n",
    "    def __init__(self, n_in, n_out, n_h, n_hidden_layers=5):\n",
    "        super().__init__()\n",
    "        self.first = nn.Linear(n_in, n_h)\n",
    "        self.proj_in_h = nn.Linear(n_in, n_h)\n",
    "        self.blocks = nn.Sequential(\n",
    "            *[Block(n_h, n_h) for i in range(n_hidden_layers)],\n",
    "        )\n",
    "        self.last_norm = nn.BatchNorm1d(n_h)\n",
    "        self.last = nn.Linear(n_h, n_out, bias=False)\n",
    "        \n",
    "    def forward(self, x):\n",
    "        x = self.first(x) + self.proj_in_h(x) # bs, nh + bs, n_h\n",
    "        for m in self.blocks:\n",
    "            x = m(x) + x\n",
    "            \n",
    "        return self.last(self.last_norm(x))"
   ]
  },
  {
   "cell_type": "code",
   "execution_count": 228,
   "id": "bea5f747",
   "metadata": {},
   "outputs": [],
   "source": [
    "def normalize(tns, dim=0):\n",
    "    return (tns - tns.min(dim=dim, keepdim=True).values) / (tns.max(dim=dim, keepdim=True).values - tns.min(dim=dim, keepdim=True).values + 1e-9)\n"
   ]
  },
  {
   "cell_type": "code",
   "execution_count": 229,
   "id": "5aacb59c-e216-4549-8626-137dafc2ef21",
   "metadata": {},
   "outputs": [],
   "source": [
    "class Learner():\n",
    "    def __init__(self, model, dls, opt, sched, loss_fn=F.mse_loss, device='cpu'):\n",
    "        self.model = model\n",
    "        self.dls = dls\n",
    "        self.opt = opt\n",
    "        self.loss_fn = loss_fn\n",
    "        self.sched = sched\n",
    "        self.device = device\n",
    "        \n",
    "    def fit(self, epochs=1, plot=True):\n",
    "        self.losses_train = []\n",
    "        self.losses_val = []\n",
    "        self.plot = plot\n",
    "        self.epochs = epochs\n",
    "        \n",
    "        self.fig, self.ax = plt.subplots()\n",
    "        plt.tight_layout()\n",
    "        \n",
    "        display(self.fig, display_id='plot')\n",
    "        for self.epoch in tqdm(range(epochs)):\n",
    "            self._fit(True)\n",
    "            torch.no_grad()(self._fit(False))\n",
    "            \n",
    "        if self.plot:\n",
    "            self.ax.plot(self.losses_train, color=\"blue\", linestyle=\"-\")\n",
    "            val_pos = [len(self.dls[0]) * (i + 1) for i in range(self.epoch + 1)]\n",
    "            self.ax.plot(val_pos, self.losses_val, color=\"orange\", linestyle=\"--\")\n",
    "            self.fig.canvas.draw()\n",
    "            update_display(self.fig, display_id='plot')\n",
    "\n",
    "                \n",
    "    def _fit(self, train=True):\n",
    "        self.model.train() if train else self.model.eval()\n",
    "        dl = self.dls[0] if train else self.dls[1]\n",
    "        loss_val = 0.0\n",
    "        self.model.to(self.device)\n",
    "        for x, y in dl:\n",
    "            # x = normalize(x, dim=0)\n",
    "            pred = self.model(x.to(self.device))\n",
    "            pred = pred.view(-1)\n",
    "            loss = self.loss_fn(pred, y.to(self.device))\n",
    "            if train:\n",
    "                loss.backward()\n",
    "                self.opt.step()\n",
    "                self.opt.zero_grad()\n",
    "                self.sched.step()\n",
    "                self.losses_train.append(loss.item())\n",
    "                if self.plot:\n",
    "                    self.ax.clear()\n",
    "                    \n",
    "                    self.ax.plot(self.losses_train, color=\"blue\", linestyle=\"-\")\n",
    "                    val_pos = [len(self.dls[0]) * (i + 1) for i in range(self.epoch)]\n",
    "                    self.ax.plot(val_pos, self.losses_val, color=\"orange\", linestyle=\"-\")\n",
    "                    \n",
    "                    self.fig.canvas.draw()\n",
    "                    update_display(self.fig, display_id='plot')\n",
    "\n",
    "            else:\n",
    "                loss_val += loss.item() * x.shape[0]\n",
    "                \n",
    "        if not train:\n",
    "            loss_val_avg = loss_val / len(dsvalid)\n",
    "            self.losses_val.append(loss_val_avg)\n"
   ]
  },
  {
   "cell_type": "code",
   "execution_count": 230,
   "id": "d4696477",
   "metadata": {},
   "outputs": [],
   "source": [
    "class Metrics:\n",
    "    def __init__(self):\n",
    "        self.reset()\n",
    "    \n",
    "    def reset(self):\n",
    "        self.vals, self.ns = [], []\n",
    "        \n",
    "    def add(self, inp, targets=None, n=1):\n",
    "        self.last = self.calc(inp, targets)\n",
    "        self.vals.append(self.last)\n",
    "        self.ns.append(n)\n",
    "    \n",
    "    @property\n",
    "    def value(self):\n",
    "        ns = tensor(self.ns)\n",
    "        return (tensor(self.vals) * ns).sum() / np.sum(self.ns)\n",
    "    \n",
    "    def calc(self, inp, targets):\n",
    "        return inp"
   ]
  },
  {
   "cell_type": "code",
   "execution_count": 231,
   "id": "33345675",
   "metadata": {},
   "outputs": [],
   "source": [
    "class Accuracy(Metrics):\n",
    "    def __init__(self):\n",
    "        super().__init__()\n",
    "    \n",
    "    def calc(self, inp, targets):\n",
    "        return (inp == targets).float().mean()"
   ]
  },
  {
   "cell_type": "code",
   "execution_count": 232,
   "id": "b022cd0f-876a-488c-8a0a-6c72039ed476",
   "metadata": {},
   "outputs": [],
   "source": [
    "def init_model(m):\n",
    "    if isinstance(m, nn.Linear):\n",
    "        nn.init.kaiming_normal_(m.weight, a=0.1)\n",
    "        if m.bias is not None: nn.init.constant_(m.bias, 0.0)"
   ]
  },
  {
   "cell_type": "code",
   "execution_count": 233,
   "id": "76c2babc",
   "metadata": {},
   "outputs": [],
   "source": [
    "dftrain, dfvalid = split_df(dftraining, split=0.9)"
   ]
  },
  {
   "cell_type": "code",
   "execution_count": 234,
   "id": "a3c72609-8a70-4c58-b0fd-4862e112582b",
   "metadata": {},
   "outputs": [
    {
     "data": {
      "text/plain": [
       "(869, 14)"
      ]
     },
     "execution_count": 234,
     "metadata": {},
     "output_type": "execute_result"
    }
   ],
   "source": [
    "dfvalid.shape"
   ]
  },
  {
   "cell_type": "code",
   "execution_count": 235,
   "id": "80a90a2e-72d7-4290-9585-ed0a698fc59a",
   "metadata": {},
   "outputs": [
    {
     "data": {
      "text/plain": [
       "((869, 24), (7824, 25))"
      ]
     },
     "execution_count": 235,
     "metadata": {},
     "output_type": "execute_result"
    }
   ],
   "source": [
    "clean_df(dfvalid).shape, clean_df(dftrain).shape"
   ]
  },
  {
   "cell_type": "code",
   "execution_count": 236,
   "id": "6fd6600a-491f-474c-8905-6596400746d3",
   "metadata": {},
   "outputs": [
    {
     "data": {
      "text/plain": [
       "((7824, 25), (869, 25))"
      ]
     },
     "execution_count": 236,
     "metadata": {},
     "output_type": "execute_result"
    }
   ],
   "source": [
    "device = 'cuda' if torch.cuda.is_available() else 'cpu'\n",
    "\n",
    "dstrain, dsvalid = SpaceTitanic(dftrain, fillmode=\"mode\"), SpaceTitanic(dfvalid, fillmode=\"mode\")\n",
    "\n",
    "dsvalid.clean_ds = dsvalid.clean_ds.reindex(columns=dstrain.clean_ds.columns, fill_value=0)\n",
    "dstrain.clean_ds.shape, dsvalid.clean_ds.shape"
   ]
  },
  {
   "cell_type": "code",
   "execution_count": 243,
   "id": "be9ee744-77ca-4644-ba02-87e2f9fdcc84",
   "metadata": {},
   "outputs": [],
   "source": [
    "bs = 32\n",
    "dls = DataLoader(dstrain, batch_size=bs), DataLoader(dsvalid, batch_size=bs)\n",
    "n_features = dstrain.clean_ds.shape[1] - 1\n",
    "\n",
    "model = SpaceTitanicModel(n_features, 1, 300, 50)\n",
    "model.apply(init_model)\n",
    "\n",
    "lr = 9e-2\n",
    "\n",
    "opt = optim.AdamW(model.parameters(), lr=lr)\n",
    "n_epochs = 8\n",
    "sched = CosineAnnealingLR(opt, n_epochs * len(dls), lr * 0.35)"
   ]
  },
  {
   "cell_type": "code",
   "execution_count": 244,
   "id": "e290e029",
   "metadata": {},
   "outputs": [],
   "source": [
    "learn = Learner(model, dls, loss_fn=F.binary_cross_entropy_with_logits, opt=opt, sched=sched, device=device)"
   ]
  },
  {
   "cell_type": "code",
   "execution_count": 245,
   "id": "584ab9dd",
   "metadata": {
    "tags": []
   },
   "outputs": [
    {
     "data": {
      "image/png": "[encoded data removed]",
      "text/plain": [
       "<Figure size 432x288 with 1 Axes>"
      ]
     },
     "metadata": {},
     "output_type": "display_data"
    },
    {
     "name": "stderr",
     "output_type": "stream",
     "text": [
      "100%|██████████| 8/8 [04:05<00:00, 30.70s/it]\n"
     ]
    },
    {
     "data": {
      "image/png": "[encoded data removed]",
      "text/plain": [
       "<Figure size 432x288 with 1 Axes>"
      ]
     },
     "metadata": {
      "needs_background": "light"
     },
     "output_type": "display_data"
    }
   ],
   "source": [
    "learn.fit(n_epochs)"
   ]
  },
  {
   "cell_type": "code",
   "execution_count": null,
   "id": "d10e4b5c",
   "metadata": {},
   "outputs": [],
   "source": [
    "dstest = SpaceTitanic(dftest, train=False)\n",
    "dltest = DataLoader(dstest, batch_size=1024)"
   ]
  },
  {
   "cell_type": "code",
   "execution_count": null,
   "id": "1479557f",
   "metadata": {},
   "outputs": [],
   "source": [
    "preds = None\n",
    "\n",
    "model.eval()\n",
    "with torch.no_grad():\n",
    "    for x in dltest:\n",
    "        # x = normalize(x, dim=0)\n",
    "        out = learn.model(x.to(device))\n",
    "        probs = F.sigmoid(out)\n",
    "        if preds is None: preds = probs.round()\n",
    "        else: preds = torch.cat((preds, probs.round()))"
   ]
  },
  {
   "cell_type": "code",
   "execution_count": null,
   "id": "ed7bf66f-8ce7-47bd-9fec-346d6a400815",
   "metadata": {},
   "outputs": [],
   "source": [
    "preds = preds.squeeze()"
   ]
  },
  {
   "cell_type": "code",
   "execution_count": null,
   "id": "9fba6b5c-23eb-4207-95b1-cddac6bfcbc9",
   "metadata": {},
   "outputs": [],
   "source": [
    "dfsubmit = pd.DataFrame()"
   ]
  },
  {
   "cell_type": "code",
   "execution_count": null,
   "id": "1929c145-2d33-4006-824d-390cad1d14a5",
   "metadata": {},
   "outputs": [],
   "source": [
    "dfsubmit['PassengerId'] = dftest['PassengerId']"
   ]
  },
  {
   "cell_type": "code",
   "execution_count": null,
   "id": "cafa52f9-d98f-46eb-ac24-74fc77d0dfcc",
   "metadata": {},
   "outputs": [],
   "source": [
    "dfsubmit['Transported'] = torch.randint(0, 2, (dftest.shape[0],)).to(bool)"
   ]
  },
  {
   "cell_type": "code",
   "execution_count": null,
   "id": "021d68aa-7e8b-404f-8e21-eadc707c99f8",
   "metadata": {},
   "outputs": [],
   "source": [
    "dfsubmit"
   ]
  },
  {
   "cell_type": "code",
   "execution_count": null,
   "id": "ff8297a4-7829-49cd-8bbc-d3297659f0f7",
   "metadata": {},
   "outputs": [],
   "source": [
    "dfsubmit.to_csv(\"spaceship_submit.csv\", index=False)"
   ]
  },
  {
   "cell_type": "code",
   "execution_count": null,
   "id": "31e567d5-fbe8-47d7-91e1-246d3c3c9149",
   "metadata": {},
   "outputs": [],
   "source": [
    "dstest.clean_ds"
   ]
  },
  {
   "cell_type": "code",
   "execution_count": 215,
   "id": "ca215ed2-ddf7-4878-a2dd-160da05c91b4",
   "metadata": {},
   "outputs": [
    {
     "ename": "NameError",
     "evalue": "name 'dltest' is not defined",
     "output_type": "error",
     "traceback": [
      "\u001b[0;31m---------------------------------------------------------------------------\u001b[0m",
      "\u001b[0;31mNameError\u001b[0m                                 Traceback (most recent call last)",
      "Input \u001b[0;32mIn [215]\u001b[0m, in \u001b[0;36m<cell line: 1>\u001b[0;34m()\u001b[0m\n\u001b[0;32m----> 1\u001b[0m normalize(\u001b[38;5;28mnext\u001b[39m(\u001b[38;5;28miter\u001b[39m(\u001b[43mdltest\u001b[49m)), dim\u001b[38;5;241m=\u001b[39m\u001b[38;5;241m0\u001b[39m)\n",
      "\u001b[0;31mNameError\u001b[0m: name 'dltest' is not defined"
     ]
    }
   ],
   "source": [
    "normalize(next(iter(dltest)), dim=0)"
   ]
  },
  {
   "cell_type": "code",
   "execution_count": 246,
   "id": "03fabbcc-fb47-4e3a-bd9b-dd2eaaea366a",
   "metadata": {},
   "outputs": [
    {
     "data": {
      "text/plain": [
       "5288"
      ]
     },
     "execution_count": 246,
     "metadata": {},
     "output_type": "execute_result"
    }
   ],
   "source": [
    "learn.model.eval()\n",
    "right = 0\n",
    "for x, y in dls[0]:\n",
    "    x = normalize(x)\n",
    "    logits = learn.model(x.to(device))\n",
    "    preds = F.sigmoid(logits).view(-1)\n",
    "    right += (preds.round() == y.to(device)).sum().item()\n",
    "    \n",
    "right"
   ]
  },
  {
   "cell_type": "code",
   "execution_count": 247,
   "id": "d8e839aa-40a8-4782-ba18-5567a564f9ae",
   "metadata": {},
   "outputs": [
    {
     "data": {
      "text/plain": [
       "7824"
      ]
     },
     "execution_count": 247,
     "metadata": {},
     "output_type": "execute_result"
    }
   ],
   "source": [
    "len(dstrain)"
   ]
  },
  {
   "cell_type": "code",
   "execution_count": 208,
   "id": "c734b312-554d-4818-84eb-bc25176c04e4",
   "metadata": {},
   "outputs": [
    {
     "data": {
      "text/plain": [
       "-0.21601158017693825"
      ]
     },
     "execution_count": 208,
     "metadata": {},
     "output_type": "execute_result"
    }
   ],
   "source": [
    "np.log(right/len(dstrain))"
   ]
  },
  {
   "cell_type": "code",
   "execution_count": null,
   "id": "7bcc6114-5a14-4a73-ac75-51d763636f99",
   "metadata": {},
   "outputs": [],
   "source": []
  }
 ],
 "metadata": {
  "kernelspec": {
   "display_name": "Python 3 (ipykernel)",
   "language": "python",
   "name": "python3"
  },
  "language_info": {
   "codemirror_mode": {
    "name": "ipython",
    "version": 3
   },
   "file_extension": ".py",
   "mimetype": "text/x-python",
   "name": "python",
   "nbconvert_exporter": "python",
   "pygments_lexer": "ipython3",
   "version": "3.9.13"
  }
 },
 "nbformat": 4,
 "nbformat_minor": 5
}
