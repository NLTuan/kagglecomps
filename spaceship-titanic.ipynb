{
 "cells": [
  {
   "cell_type": "code",
   "execution_count": 21,
   "id": "7a8b1776-3f36-403e-98a0-e7f559712145",
   "metadata": {},
   "outputs": [],
   "source": [
    "import pandas as pd\n",
    "import torch\n",
    "from torch import nn, optim, tensor\n",
    "import torch.nn.functional as F\n",
    "\n",
    "from torch.utils.data import Dataset, DataLoader\n",
    "import numpy as np\n",
    "\n",
    "from torch.optim.lr_scheduler import CosineAnnealingLR \n",
    "\n",
    "from tqdm import tqdm\n",
    "\n",
    "import matplotlib.pyplot as plt\n",
    "\n",
    "from IPython.display import display, clear_output, update_display\n",
    "\n",
    "import warnings\n",
    "warnings.simplefilter(action='ignore', category=FutureWarning)"
   ]
  },
  {
   "cell_type": "code",
   "execution_count": 22,
   "id": "379f6f1b-61ef-4cfa-b244-bdcf8ec36f47",
   "metadata": {},
   "outputs": [],
   "source": [
    "from pathlib import Path"
   ]
  },
  {
   "cell_type": "code",
   "execution_count": 23,
   "id": "72d26677-4ef1-4400-be58-21a8f2bdaf41",
   "metadata": {},
   "outputs": [],
   "source": [
    "dftraining = pd.read_csv(Path('./data/spaceship-titanic/train.csv'))\n",
    "dftest = pd.read_csv(Path('./data/spaceship-titanic/test.csv'))"
   ]
  },
  {
   "cell_type": "code",
   "execution_count": 24,
   "id": "551ac655-0a14-4e9d-875d-1fc5bc9d3c86",
   "metadata": {},
   "outputs": [
    {
     "data": {
      "text/html": [
       "<div>\n",
       "<style scoped>\n",
       "    .dataframe tbody tr th:only-of-type {\n",
       "        vertical-align: middle;\n",
       "    }\n",
       "\n",
       "    .dataframe tbody tr th {\n",
       "        vertical-align: top;\n",
       "    }\n",
       "\n",
       "    .dataframe thead th {\n",
       "        text-align: right;\n",
       "    }\n",
       "</style>\n",
       "<table border=\"1\" class=\"dataframe\">\n",
       "  <thead>\n",
       "    <tr style=\"text-align: right;\">\n",
       "      <th></th>\n",
       "      <th>PassengerId</th>\n",
       "      <th>HomePlanet</th>\n",
       "      <th>CryoSleep</th>\n",
       "      <th>Cabin</th>\n",
       "      <th>Destination</th>\n",
       "      <th>Age</th>\n",
       "      <th>VIP</th>\n",
       "      <th>RoomService</th>\n",
       "      <th>FoodCourt</th>\n",
       "      <th>ShoppingMall</th>\n",
       "      <th>Spa</th>\n",
       "      <th>VRDeck</th>\n",
       "      <th>Name</th>\n",
       "      <th>Transported</th>\n",
       "    </tr>\n",
       "  </thead>\n",
       "  <tbody>\n",
       "    <tr>\n",
       "      <th>0</th>\n",
       "      <td>0001_01</td>\n",
       "      <td>Europa</td>\n",
       "      <td>False</td>\n",
       "      <td>B/0/P</td>\n",
       "      <td>TRAPPIST-1e</td>\n",
       "      <td>39.0</td>\n",
       "      <td>False</td>\n",
       "      <td>0.0</td>\n",
       "      <td>0.0</td>\n",
       "      <td>0.0</td>\n",
       "      <td>0.0</td>\n",
       "      <td>0.0</td>\n",
       "      <td>Maham Ofracculy</td>\n",
       "      <td>False</td>\n",
       "    </tr>\n",
       "    <tr>\n",
       "      <th>1</th>\n",
       "      <td>0002_01</td>\n",
       "      <td>Earth</td>\n",
       "      <td>False</td>\n",
       "      <td>F/0/S</td>\n",
       "      <td>TRAPPIST-1e</td>\n",
       "      <td>24.0</td>\n",
       "      <td>False</td>\n",
       "      <td>109.0</td>\n",
       "      <td>9.0</td>\n",
       "      <td>25.0</td>\n",
       "      <td>549.0</td>\n",
       "      <td>44.0</td>\n",
       "      <td>Juanna Vines</td>\n",
       "      <td>True</td>\n",
       "    </tr>\n",
       "    <tr>\n",
       "      <th>2</th>\n",
       "      <td>0003_01</td>\n",
       "      <td>Europa</td>\n",
       "      <td>False</td>\n",
       "      <td>A/0/S</td>\n",
       "      <td>TRAPPIST-1e</td>\n",
       "      <td>58.0</td>\n",
       "      <td>True</td>\n",
       "      <td>43.0</td>\n",
       "      <td>3576.0</td>\n",
       "      <td>0.0</td>\n",
       "      <td>6715.0</td>\n",
       "      <td>49.0</td>\n",
       "      <td>Altark Susent</td>\n",
       "      <td>False</td>\n",
       "    </tr>\n",
       "    <tr>\n",
       "      <th>3</th>\n",
       "      <td>0003_02</td>\n",
       "      <td>Europa</td>\n",
       "      <td>False</td>\n",
       "      <td>A/0/S</td>\n",
       "      <td>TRAPPIST-1e</td>\n",
       "      <td>33.0</td>\n",
       "      <td>False</td>\n",
       "      <td>0.0</td>\n",
       "      <td>1283.0</td>\n",
       "      <td>371.0</td>\n",
       "      <td>3329.0</td>\n",
       "      <td>193.0</td>\n",
       "      <td>Solam Susent</td>\n",
       "      <td>False</td>\n",
       "    </tr>\n",
       "    <tr>\n",
       "      <th>4</th>\n",
       "      <td>0004_01</td>\n",
       "      <td>Earth</td>\n",
       "      <td>False</td>\n",
       "      <td>F/1/S</td>\n",
       "      <td>TRAPPIST-1e</td>\n",
       "      <td>16.0</td>\n",
       "      <td>False</td>\n",
       "      <td>303.0</td>\n",
       "      <td>70.0</td>\n",
       "      <td>151.0</td>\n",
       "      <td>565.0</td>\n",
       "      <td>2.0</td>\n",
       "      <td>Willy Santantines</td>\n",
       "      <td>True</td>\n",
       "    </tr>\n",
       "  </tbody>\n",
       "</table>\n",
       "</div>"
      ],
      "text/plain": [
       "  PassengerId HomePlanet CryoSleep  Cabin  Destination   Age    VIP  \\\n",
       "0     0001_01     Europa     False  B/0/P  TRAPPIST-1e  39.0  False   \n",
       "1     0002_01      Earth     False  F/0/S  TRAPPIST-1e  24.0  False   \n",
       "2     0003_01     Europa     False  A/0/S  TRAPPIST-1e  58.0   True   \n",
       "3     0003_02     Europa     False  A/0/S  TRAPPIST-1e  33.0  False   \n",
       "4     0004_01      Earth     False  F/1/S  TRAPPIST-1e  16.0  False   \n",
       "\n",
       "   RoomService  FoodCourt  ShoppingMall     Spa  VRDeck               Name  \\\n",
       "0          0.0        0.0           0.0     0.0     0.0    Maham Ofracculy   \n",
       "1        109.0        9.0          25.0   549.0    44.0       Juanna Vines   \n",
       "2         43.0     3576.0           0.0  6715.0    49.0      Altark Susent   \n",
       "3          0.0     1283.0         371.0  3329.0   193.0       Solam Susent   \n",
       "4        303.0       70.0         151.0   565.0     2.0  Willy Santantines   \n",
       "\n",
       "   Transported  \n",
       "0        False  \n",
       "1         True  \n",
       "2        False  \n",
       "3        False  \n",
       "4         True  "
      ]
     },
     "execution_count": 24,
     "metadata": {},
     "output_type": "execute_result"
    }
   ],
   "source": [
    "dftraining.head()"
   ]
  },
  {
   "cell_type": "code",
   "execution_count": 25,
   "id": "3098f519-cdbf-4557-91f2-0e371e92aee9",
   "metadata": {},
   "outputs": [
    {
     "data": {
      "text/html": [
       "<div>\n",
       "<style scoped>\n",
       "    .dataframe tbody tr th:only-of-type {\n",
       "        vertical-align: middle;\n",
       "    }\n",
       "\n",
       "    .dataframe tbody tr th {\n",
       "        vertical-align: top;\n",
       "    }\n",
       "\n",
       "    .dataframe thead th {\n",
       "        text-align: right;\n",
       "    }\n",
       "</style>\n",
       "<table border=\"1\" class=\"dataframe\">\n",
       "  <thead>\n",
       "    <tr style=\"text-align: right;\">\n",
       "      <th></th>\n",
       "      <th>PassengerId</th>\n",
       "      <th>HomePlanet</th>\n",
       "      <th>CryoSleep</th>\n",
       "      <th>Cabin</th>\n",
       "      <th>Destination</th>\n",
       "      <th>Age</th>\n",
       "      <th>VIP</th>\n",
       "      <th>RoomService</th>\n",
       "      <th>FoodCourt</th>\n",
       "      <th>ShoppingMall</th>\n",
       "      <th>Spa</th>\n",
       "      <th>VRDeck</th>\n",
       "      <th>Name</th>\n",
       "      <th>Transported</th>\n",
       "    </tr>\n",
       "  </thead>\n",
       "  <tbody>\n",
       "    <tr>\n",
       "      <th>0</th>\n",
       "      <td>0001_01</td>\n",
       "      <td>Earth</td>\n",
       "      <td>False</td>\n",
       "      <td>G/734/S</td>\n",
       "      <td>TRAPPIST-1e</td>\n",
       "      <td>24.0</td>\n",
       "      <td>False</td>\n",
       "      <td>0.0</td>\n",
       "      <td>0.0</td>\n",
       "      <td>0.0</td>\n",
       "      <td>0.0</td>\n",
       "      <td>0.0</td>\n",
       "      <td>Alraium Disivering</td>\n",
       "      <td>True</td>\n",
       "    </tr>\n",
       "    <tr>\n",
       "      <th>1</th>\n",
       "      <td>0002_01</td>\n",
       "      <td>NaN</td>\n",
       "      <td>NaN</td>\n",
       "      <td>NaN</td>\n",
       "      <td>NaN</td>\n",
       "      <td>NaN</td>\n",
       "      <td>NaN</td>\n",
       "      <td>NaN</td>\n",
       "      <td>NaN</td>\n",
       "      <td>NaN</td>\n",
       "      <td>NaN</td>\n",
       "      <td>NaN</td>\n",
       "      <td>Ankalik Nateansive</td>\n",
       "      <td>NaN</td>\n",
       "    </tr>\n",
       "    <tr>\n",
       "      <th>2</th>\n",
       "      <td>0003_01</td>\n",
       "      <td>NaN</td>\n",
       "      <td>NaN</td>\n",
       "      <td>NaN</td>\n",
       "      <td>NaN</td>\n",
       "      <td>NaN</td>\n",
       "      <td>NaN</td>\n",
       "      <td>NaN</td>\n",
       "      <td>NaN</td>\n",
       "      <td>NaN</td>\n",
       "      <td>NaN</td>\n",
       "      <td>NaN</td>\n",
       "      <td>Anton Woody</td>\n",
       "      <td>NaN</td>\n",
       "    </tr>\n",
       "    <tr>\n",
       "      <th>3</th>\n",
       "      <td>0003_02</td>\n",
       "      <td>NaN</td>\n",
       "      <td>NaN</td>\n",
       "      <td>NaN</td>\n",
       "      <td>NaN</td>\n",
       "      <td>NaN</td>\n",
       "      <td>NaN</td>\n",
       "      <td>NaN</td>\n",
       "      <td>NaN</td>\n",
       "      <td>NaN</td>\n",
       "      <td>NaN</td>\n",
       "      <td>NaN</td>\n",
       "      <td>Apix Wala</td>\n",
       "      <td>NaN</td>\n",
       "    </tr>\n",
       "    <tr>\n",
       "      <th>4</th>\n",
       "      <td>0004_01</td>\n",
       "      <td>NaN</td>\n",
       "      <td>NaN</td>\n",
       "      <td>NaN</td>\n",
       "      <td>NaN</td>\n",
       "      <td>NaN</td>\n",
       "      <td>NaN</td>\n",
       "      <td>NaN</td>\n",
       "      <td>NaN</td>\n",
       "      <td>NaN</td>\n",
       "      <td>NaN</td>\n",
       "      <td>NaN</td>\n",
       "      <td>Asch Stradick</td>\n",
       "      <td>NaN</td>\n",
       "    </tr>\n",
       "    <tr>\n",
       "      <th>...</th>\n",
       "      <td>...</td>\n",
       "      <td>...</td>\n",
       "      <td>...</td>\n",
       "      <td>...</td>\n",
       "      <td>...</td>\n",
       "      <td>...</td>\n",
       "      <td>...</td>\n",
       "      <td>...</td>\n",
       "      <td>...</td>\n",
       "      <td>...</td>\n",
       "      <td>...</td>\n",
       "      <td>...</td>\n",
       "      <td>...</td>\n",
       "      <td>...</td>\n",
       "    </tr>\n",
       "    <tr>\n",
       "      <th>8688</th>\n",
       "      <td>9276_01</td>\n",
       "      <td>NaN</td>\n",
       "      <td>NaN</td>\n",
       "      <td>NaN</td>\n",
       "      <td>NaN</td>\n",
       "      <td>NaN</td>\n",
       "      <td>NaN</td>\n",
       "      <td>NaN</td>\n",
       "      <td>NaN</td>\n",
       "      <td>NaN</td>\n",
       "      <td>NaN</td>\n",
       "      <td>NaN</td>\n",
       "      <td>NaN</td>\n",
       "      <td>NaN</td>\n",
       "    </tr>\n",
       "    <tr>\n",
       "      <th>8689</th>\n",
       "      <td>9278_01</td>\n",
       "      <td>NaN</td>\n",
       "      <td>NaN</td>\n",
       "      <td>NaN</td>\n",
       "      <td>NaN</td>\n",
       "      <td>NaN</td>\n",
       "      <td>NaN</td>\n",
       "      <td>NaN</td>\n",
       "      <td>NaN</td>\n",
       "      <td>NaN</td>\n",
       "      <td>NaN</td>\n",
       "      <td>NaN</td>\n",
       "      <td>NaN</td>\n",
       "      <td>NaN</td>\n",
       "    </tr>\n",
       "    <tr>\n",
       "      <th>8690</th>\n",
       "      <td>9279_01</td>\n",
       "      <td>NaN</td>\n",
       "      <td>NaN</td>\n",
       "      <td>NaN</td>\n",
       "      <td>NaN</td>\n",
       "      <td>NaN</td>\n",
       "      <td>NaN</td>\n",
       "      <td>NaN</td>\n",
       "      <td>NaN</td>\n",
       "      <td>NaN</td>\n",
       "      <td>NaN</td>\n",
       "      <td>NaN</td>\n",
       "      <td>NaN</td>\n",
       "      <td>NaN</td>\n",
       "    </tr>\n",
       "    <tr>\n",
       "      <th>8691</th>\n",
       "      <td>9280_01</td>\n",
       "      <td>NaN</td>\n",
       "      <td>NaN</td>\n",
       "      <td>NaN</td>\n",
       "      <td>NaN</td>\n",
       "      <td>NaN</td>\n",
       "      <td>NaN</td>\n",
       "      <td>NaN</td>\n",
       "      <td>NaN</td>\n",
       "      <td>NaN</td>\n",
       "      <td>NaN</td>\n",
       "      <td>NaN</td>\n",
       "      <td>NaN</td>\n",
       "      <td>NaN</td>\n",
       "    </tr>\n",
       "    <tr>\n",
       "      <th>8692</th>\n",
       "      <td>9280_02</td>\n",
       "      <td>NaN</td>\n",
       "      <td>NaN</td>\n",
       "      <td>NaN</td>\n",
       "      <td>NaN</td>\n",
       "      <td>NaN</td>\n",
       "      <td>NaN</td>\n",
       "      <td>NaN</td>\n",
       "      <td>NaN</td>\n",
       "      <td>NaN</td>\n",
       "      <td>NaN</td>\n",
       "      <td>NaN</td>\n",
       "      <td>NaN</td>\n",
       "      <td>NaN</td>\n",
       "    </tr>\n",
       "  </tbody>\n",
       "</table>\n",
       "<p>8693 rows × 14 columns</p>\n",
       "</div>"
      ],
      "text/plain": [
       "     PassengerId HomePlanet CryoSleep    Cabin  Destination   Age    VIP  \\\n",
       "0        0001_01      Earth     False  G/734/S  TRAPPIST-1e  24.0  False   \n",
       "1        0002_01        NaN       NaN      NaN          NaN   NaN    NaN   \n",
       "2        0003_01        NaN       NaN      NaN          NaN   NaN    NaN   \n",
       "3        0003_02        NaN       NaN      NaN          NaN   NaN    NaN   \n",
       "4        0004_01        NaN       NaN      NaN          NaN   NaN    NaN   \n",
       "...          ...        ...       ...      ...          ...   ...    ...   \n",
       "8688     9276_01        NaN       NaN      NaN          NaN   NaN    NaN   \n",
       "8689     9278_01        NaN       NaN      NaN          NaN   NaN    NaN   \n",
       "8690     9279_01        NaN       NaN      NaN          NaN   NaN    NaN   \n",
       "8691     9280_01        NaN       NaN      NaN          NaN   NaN    NaN   \n",
       "8692     9280_02        NaN       NaN      NaN          NaN   NaN    NaN   \n",
       "\n",
       "      RoomService  FoodCourt  ShoppingMall  Spa  VRDeck                Name  \\\n",
       "0             0.0        0.0           0.0  0.0     0.0  Alraium Disivering   \n",
       "1             NaN        NaN           NaN  NaN     NaN  Ankalik Nateansive   \n",
       "2             NaN        NaN           NaN  NaN     NaN         Anton Woody   \n",
       "3             NaN        NaN           NaN  NaN     NaN           Apix Wala   \n",
       "4             NaN        NaN           NaN  NaN     NaN       Asch Stradick   \n",
       "...           ...        ...           ...  ...     ...                 ...   \n",
       "8688          NaN        NaN           NaN  NaN     NaN                 NaN   \n",
       "8689          NaN        NaN           NaN  NaN     NaN                 NaN   \n",
       "8690          NaN        NaN           NaN  NaN     NaN                 NaN   \n",
       "8691          NaN        NaN           NaN  NaN     NaN                 NaN   \n",
       "8692          NaN        NaN           NaN  NaN     NaN                 NaN   \n",
       "\n",
       "     Transported  \n",
       "0           True  \n",
       "1            NaN  \n",
       "2            NaN  \n",
       "3            NaN  \n",
       "4            NaN  \n",
       "...          ...  \n",
       "8688         NaN  \n",
       "8689         NaN  \n",
       "8690         NaN  \n",
       "8691         NaN  \n",
       "8692         NaN  \n",
       "\n",
       "[8693 rows x 14 columns]"
      ]
     },
     "execution_count": 25,
     "metadata": {},
     "output_type": "execute_result"
    }
   ],
   "source": [
    "dftraining.mode()"
   ]
  },
  {
   "cell_type": "code",
   "execution_count": 26,
   "id": "307e0d86-0d93-42ac-b1d6-3b26590dd5cf",
   "metadata": {},
   "outputs": [
    {
     "data": {
      "text/plain": [
       "PassengerId     0\n",
       "HomePlanet      0\n",
       "CryoSleep       0\n",
       "Cabin           0\n",
       "Destination     0\n",
       "Age             0\n",
       "VIP             0\n",
       "RoomService     0\n",
       "FoodCourt       0\n",
       "ShoppingMall    0\n",
       "Spa             0\n",
       "VRDeck          0\n",
       "Name            0\n",
       "Transported     0\n",
       "dtype: int64"
      ]
     },
     "execution_count": 26,
     "metadata": {},
     "output_type": "execute_result"
    }
   ],
   "source": [
    "dftraining.fillna(dftraining.mode().iloc[0]).isna().sum()"
   ]
  },
  {
   "cell_type": "code",
   "execution_count": 27,
   "id": "370b2969-a912-4d9d-a965-42ea56aa2555",
   "metadata": {},
   "outputs": [],
   "source": [
    "cats = ['HomePlanet', 'Cabin', 'Destination']\n",
    "conts = ['CryoSleep', 'Age', 'VIP', 'RoomService', 'FoodCourt', 'ShoppingMall', 'Spa', 'VRDeck']"
   ]
  },
  {
   "cell_type": "code",
   "execution_count": 28,
   "id": "17a3db80-99f3-4e5c-96cc-58eef0244b0b",
   "metadata": {},
   "outputs": [
    {
     "data": {
      "text/plain": [
       "array(['B', 'F', 'A', 'G', nan, 'E', 'D', 'C', 'T'], dtype=object)"
      ]
     },
     "execution_count": 28,
     "metadata": {},
     "output_type": "execute_result"
    }
   ],
   "source": [
    "dftraining['Cabin'].str[0].unique()"
   ]
  },
  {
   "cell_type": "code",
   "execution_count": 29,
   "id": "1efb3bf5-135e-4303-8e21-331372c5cb33",
   "metadata": {},
   "outputs": [
    {
     "data": {
      "text/plain": [
       "array(['TRAPPIST-1e', 'PSO J318.5-22', '55 Cancri e', nan], dtype=object)"
      ]
     },
     "execution_count": 29,
     "metadata": {},
     "output_type": "execute_result"
    }
   ],
   "source": [
    "dftraining['Destination'].unique()"
   ]
  },
  {
   "cell_type": "code",
   "execution_count": 30,
   "id": "8917b58d-c1ae-4cae-a4f5-5c601bea006e",
   "metadata": {},
   "outputs": [],
   "source": [
    "def clean_df(df, fillmode='median'):\n",
    "    df = df.drop(['PassengerId', 'Name'], axis = 1)\n",
    "    \n",
    "    df['Cabin'] = df['Cabin'].str[0]\n",
    "\n",
    "    df = pd.get_dummies(df, columns=cats)\n",
    "    \n",
    "    fill_method = getattr(df, fillmode)\n",
    "    if fillmode == 'mode':\n",
    "        df = df.fillna(df.mode().iloc[0])\n",
    "    else:\n",
    "        df = df.fillna(fill_method())\n",
    "    \n",
    "    for cont in conts:\n",
    "        df[cont] = np.log1p(df[cont].astype(float))\n",
    "    \n",
    "    \n",
    "    return df"
   ]
  },
  {
   "cell_type": "code",
   "execution_count": 31,
   "id": "85258172-836c-4496-b0ca-ea7ba47f8b4a",
   "metadata": {},
   "outputs": [
    {
     "data": {
      "text/html": [
       "<div>\n",
       "<style scoped>\n",
       "    .dataframe tbody tr th:only-of-type {\n",
       "        vertical-align: middle;\n",
       "    }\n",
       "\n",
       "    .dataframe tbody tr th {\n",
       "        vertical-align: top;\n",
       "    }\n",
       "\n",
       "    .dataframe thead th {\n",
       "        text-align: right;\n",
       "    }\n",
       "</style>\n",
       "<table border=\"1\" class=\"dataframe\">\n",
       "  <thead>\n",
       "    <tr style=\"text-align: right;\">\n",
       "      <th></th>\n",
       "      <th>CryoSleep</th>\n",
       "      <th>Age</th>\n",
       "      <th>VIP</th>\n",
       "      <th>RoomService</th>\n",
       "      <th>FoodCourt</th>\n",
       "      <th>ShoppingMall</th>\n",
       "      <th>Spa</th>\n",
       "      <th>VRDeck</th>\n",
       "      <th>Transported</th>\n",
       "      <th>HomePlanet_Earth</th>\n",
       "      <th>...</th>\n",
       "      <th>Cabin_B</th>\n",
       "      <th>Cabin_C</th>\n",
       "      <th>Cabin_D</th>\n",
       "      <th>Cabin_E</th>\n",
       "      <th>Cabin_F</th>\n",
       "      <th>Cabin_G</th>\n",
       "      <th>Cabin_T</th>\n",
       "      <th>Destination_55 Cancri e</th>\n",
       "      <th>Destination_PSO J318.5-22</th>\n",
       "      <th>Destination_TRAPPIST-1e</th>\n",
       "    </tr>\n",
       "  </thead>\n",
       "  <tbody>\n",
       "    <tr>\n",
       "      <th>0</th>\n",
       "      <td>0.0</td>\n",
       "      <td>3.688879</td>\n",
       "      <td>0.000000</td>\n",
       "      <td>0.000000</td>\n",
       "      <td>0.000000</td>\n",
       "      <td>0.000000</td>\n",
       "      <td>0.000000</td>\n",
       "      <td>0.000000</td>\n",
       "      <td>0.0</td>\n",
       "      <td>0.0</td>\n",
       "      <td>...</td>\n",
       "      <td>1.0</td>\n",
       "      <td>0.0</td>\n",
       "      <td>0.0</td>\n",
       "      <td>0.0</td>\n",
       "      <td>0.0</td>\n",
       "      <td>0.0</td>\n",
       "      <td>0.0</td>\n",
       "      <td>0.0</td>\n",
       "      <td>0.0</td>\n",
       "      <td>1.0</td>\n",
       "    </tr>\n",
       "    <tr>\n",
       "      <th>1</th>\n",
       "      <td>0.0</td>\n",
       "      <td>3.218876</td>\n",
       "      <td>0.000000</td>\n",
       "      <td>4.700480</td>\n",
       "      <td>2.302585</td>\n",
       "      <td>3.258097</td>\n",
       "      <td>6.309918</td>\n",
       "      <td>3.806662</td>\n",
       "      <td>1.0</td>\n",
       "      <td>1.0</td>\n",
       "      <td>...</td>\n",
       "      <td>0.0</td>\n",
       "      <td>0.0</td>\n",
       "      <td>0.0</td>\n",
       "      <td>0.0</td>\n",
       "      <td>1.0</td>\n",
       "      <td>0.0</td>\n",
       "      <td>0.0</td>\n",
       "      <td>0.0</td>\n",
       "      <td>0.0</td>\n",
       "      <td>1.0</td>\n",
       "    </tr>\n",
       "    <tr>\n",
       "      <th>2</th>\n",
       "      <td>0.0</td>\n",
       "      <td>4.077537</td>\n",
       "      <td>0.693147</td>\n",
       "      <td>3.784190</td>\n",
       "      <td>8.182280</td>\n",
       "      <td>0.000000</td>\n",
       "      <td>8.812248</td>\n",
       "      <td>3.912023</td>\n",
       "      <td>0.0</td>\n",
       "      <td>0.0</td>\n",
       "      <td>...</td>\n",
       "      <td>0.0</td>\n",
       "      <td>0.0</td>\n",
       "      <td>0.0</td>\n",
       "      <td>0.0</td>\n",
       "      <td>0.0</td>\n",
       "      <td>0.0</td>\n",
       "      <td>0.0</td>\n",
       "      <td>0.0</td>\n",
       "      <td>0.0</td>\n",
       "      <td>1.0</td>\n",
       "    </tr>\n",
       "    <tr>\n",
       "      <th>3</th>\n",
       "      <td>0.0</td>\n",
       "      <td>3.526361</td>\n",
       "      <td>0.000000</td>\n",
       "      <td>0.000000</td>\n",
       "      <td>7.157735</td>\n",
       "      <td>5.918894</td>\n",
       "      <td>8.110728</td>\n",
       "      <td>5.267858</td>\n",
       "      <td>0.0</td>\n",
       "      <td>0.0</td>\n",
       "      <td>...</td>\n",
       "      <td>0.0</td>\n",
       "      <td>0.0</td>\n",
       "      <td>0.0</td>\n",
       "      <td>0.0</td>\n",
       "      <td>0.0</td>\n",
       "      <td>0.0</td>\n",
       "      <td>0.0</td>\n",
       "      <td>0.0</td>\n",
       "      <td>0.0</td>\n",
       "      <td>1.0</td>\n",
       "    </tr>\n",
       "    <tr>\n",
       "      <th>4</th>\n",
       "      <td>0.0</td>\n",
       "      <td>2.833213</td>\n",
       "      <td>0.000000</td>\n",
       "      <td>5.717028</td>\n",
       "      <td>4.262680</td>\n",
       "      <td>5.023881</td>\n",
       "      <td>6.338594</td>\n",
       "      <td>1.098612</td>\n",
       "      <td>1.0</td>\n",
       "      <td>1.0</td>\n",
       "      <td>...</td>\n",
       "      <td>0.0</td>\n",
       "      <td>0.0</td>\n",
       "      <td>0.0</td>\n",
       "      <td>0.0</td>\n",
       "      <td>1.0</td>\n",
       "      <td>0.0</td>\n",
       "      <td>0.0</td>\n",
       "      <td>0.0</td>\n",
       "      <td>0.0</td>\n",
       "      <td>1.0</td>\n",
       "    </tr>\n",
       "  </tbody>\n",
       "</table>\n",
       "<p>5 rows × 23 columns</p>\n",
       "</div>"
      ],
      "text/plain": [
       "   CryoSleep       Age       VIP  RoomService  FoodCourt  ShoppingMall  \\\n",
       "0        0.0  3.688879  0.000000     0.000000   0.000000      0.000000   \n",
       "1        0.0  3.218876  0.000000     4.700480   2.302585      3.258097   \n",
       "2        0.0  4.077537  0.693147     3.784190   8.182280      0.000000   \n",
       "3        0.0  3.526361  0.000000     0.000000   7.157735      5.918894   \n",
       "4        0.0  2.833213  0.000000     5.717028   4.262680      5.023881   \n",
       "\n",
       "        Spa    VRDeck  Transported  HomePlanet_Earth  ...  Cabin_B  Cabin_C  \\\n",
       "0  0.000000  0.000000          0.0               0.0  ...      1.0      0.0   \n",
       "1  6.309918  3.806662          1.0               1.0  ...      0.0      0.0   \n",
       "2  8.812248  3.912023          0.0               0.0  ...      0.0      0.0   \n",
       "3  8.110728  5.267858          0.0               0.0  ...      0.0      0.0   \n",
       "4  6.338594  1.098612          1.0               1.0  ...      0.0      0.0   \n",
       "\n",
       "   Cabin_D  Cabin_E  Cabin_F  Cabin_G  Cabin_T  Destination_55 Cancri e  \\\n",
       "0      0.0      0.0      0.0      0.0      0.0                      0.0   \n",
       "1      0.0      0.0      1.0      0.0      0.0                      0.0   \n",
       "2      0.0      0.0      0.0      0.0      0.0                      0.0   \n",
       "3      0.0      0.0      0.0      0.0      0.0                      0.0   \n",
       "4      0.0      0.0      1.0      0.0      0.0                      0.0   \n",
       "\n",
       "   Destination_PSO J318.5-22  Destination_TRAPPIST-1e  \n",
       "0                        0.0                      1.0  \n",
       "1                        0.0                      1.0  \n",
       "2                        0.0                      1.0  \n",
       "3                        0.0                      1.0  \n",
       "4                        0.0                      1.0  \n",
       "\n",
       "[5 rows x 23 columns]"
      ]
     },
     "execution_count": 31,
     "metadata": {},
     "output_type": "execute_result"
    }
   ],
   "source": [
    "clean_df(dftraining).astype(float).head()"
   ]
  },
  {
   "cell_type": "code",
   "execution_count": 32,
   "id": "53b5f2bc",
   "metadata": {},
   "outputs": [],
   "source": [
    "def split_df(df, split=0.81):\n",
    "    train = df.sample(frac=split)\n",
    "    valid = df.drop(train.index)\n",
    "    return train, valid"
   ]
  },
  {
   "cell_type": "code",
   "execution_count": 33,
   "id": "76c2babc",
   "metadata": {},
   "outputs": [],
   "source": [
    "dftrain, dfvalid = split_df(dftraining)"
   ]
  },
  {
   "cell_type": "code",
   "execution_count": 34,
   "id": "7b5b908f-5062-4c56-b331-35a22301fee0",
   "metadata": {},
   "outputs": [],
   "source": [
    "class SpaceTitanic(Dataset):\n",
    "    def __init__(self, df, fillmode='median', train=True, bs=32, device='cpu'):\n",
    "        self.train = train\n",
    "        self.clean_ds = clean_df(df, fillmode)\n",
    "\n",
    "        self.device = device\n",
    "        \n",
    "    def __getitem__(self, i):\n",
    "        row = self.clean_ds.iloc[i].astype(np.float32)\n",
    "        if not self.train: return tensor(row)\n",
    "        x = tensor(row.drop(labels=['Transported']))\n",
    "        y = tensor(row.loc(axis=0)['Transported'])\n",
    "        return (x.to(self.device), y.to(self.device))\n",
    "        \n",
    "    def __len__(self):\n",
    "        return len(self.clean_ds)"
   ]
  },
  {
   "cell_type": "code",
   "execution_count": 101,
   "id": "33e421af-da31-4e97-ad2c-372a5a6825fe",
   "metadata": {},
   "outputs": [],
   "source": [
    "class Block(nn.Module):\n",
    "    def __init__(self, n_in, n_out):\n",
    "        super().__init__()\n",
    "        self.net = nn.Sequential(\n",
    "            nn.LayerNorm(n_in),\n",
    "            nn.Linear(n_in, n_out),\n",
    "            nn.LeakyReLU(0.1),\n",
    "        )\n",
    "        \n",
    "    def forward(self, x):\n",
    "        return self.net(x)\n",
    "\n",
    "class SpaceTitanicModel(nn.Module):\n",
    "    def __init__(self, n_in, n_out, n_h, n_hidden_layers=5):\n",
    "        super().__init__()\n",
    "        self.first = nn.Linear(n_in, n_h)\n",
    "        self.proj_in_h = nn.Linear(n_in, n_h)\n",
    "        self.blocks = nn.Sequential(\n",
    "            *[Block(n_h, n_h) for i in range(n_hidden_layers)],\n",
    "        )\n",
    "        self.last_norm = nn.LayerNorm(n_h)\n",
    "        self.last = nn.Linear(n_h, n_out, bias=False)\n",
    "        \n",
    "    def forward(self, x):\n",
    "        x = self.first(x) + self.proj_in_h(x) # bs, nh + bs, n_h\n",
    "        for m in self.blocks:\n",
    "            x = m(x) + x\n",
    "            \n",
    "        return self.last(self.last_norm(x))"
   ]
  },
  {
   "cell_type": "code",
   "execution_count": 102,
   "id": "e929fe6d-dfdf-481f-a754-c8635ec6e4f5",
   "metadata": {},
   "outputs": [
    {
     "data": {
      "text/plain": [
       "torch.Size([10, 134])"
      ]
     },
     "execution_count": 102,
     "metadata": {},
     "output_type": "execute_result"
    }
   ],
   "source": [
    "a = torch.randn(10, 12)\n",
    "b = torch.randn(10, 122)\n",
    "\n",
    "torch.cat((a, b), dim=1).shape"
   ]
  },
  {
   "cell_type": "code",
   "execution_count": 103,
   "id": "bea5f747",
   "metadata": {},
   "outputs": [],
   "source": [
    "def normalize(tns): return (tns - tns.mean()) / tns.std()"
   ]
  },
  {
   "cell_type": "code",
   "execution_count": 104,
   "id": "5aacb59c-e216-4549-8626-137dafc2ef21",
   "metadata": {},
   "outputs": [],
   "source": [
    "class Learner():\n",
    "    def __init__(self, model, dls, opt, sched, loss_fn=F.mse_loss, device='cpu'):\n",
    "        self.model = model.to(device)\n",
    "        self.dls = dls\n",
    "        self.opt = opt\n",
    "        self.loss_fn = loss_fn\n",
    "        self.sched = sched\n",
    "        \n",
    "    def fit(self, epochs=1, plot=True):\n",
    "        self.losses_train = []\n",
    "        self.losses_val = []\n",
    "        self.plot = plot\n",
    "        self.epochs = epochs\n",
    "        \n",
    "        self.fig, self.ax = plt.subplots()\n",
    "        plt.tight_layout()\n",
    "        \n",
    "        display(self.fig, display_id='plot')\n",
    "        for self.epoch in tqdm(range(epochs)):\n",
    "            self._fit(True)\n",
    "            torch.no_grad()(self._fit(False))\n",
    "            \n",
    "        if self.plot:\n",
    "            self.ax.plot(self.losses_train, color=\"blue\", linestyle=\"-\")\n",
    "            val_pos = [len(self.dls[0]) * (i + 1) for i in range(self.epoch + 1)]\n",
    "            self.ax.plot(val_pos, self.losses_val, color=\"orange\", linestyle=\"--\")\n",
    "            self.fig.canvas.draw()\n",
    "            update_display(self.fig, display_id='plot')\n",
    "\n",
    "                \n",
    "    def _fit(self, train=True):\n",
    "        self.model.train() if train else self.model.eval()\n",
    "        dl = self.dls[0] if train else self.dls[1]\n",
    "        loss_val = 0.0\n",
    "        for x, y in dl:\n",
    "            x = normalize(x)\n",
    "            pred = self.model(x)\n",
    "            pred = pred.view(-1)\n",
    "            loss = self.loss_fn(pred, y)\n",
    "            if train:\n",
    "                loss.backward()\n",
    "                self.opt.step()\n",
    "                self.opt.zero_grad()\n",
    "                self.sched.step()\n",
    "                self.losses_train.append(loss.item())\n",
    "                if self.plot:\n",
    "                    self.ax.clear()\n",
    "                    \n",
    "                    self.ax.plot(self.losses_train, color=\"blue\", linestyle=\"-\")\n",
    "                    val_pos = [len(self.dls[0]) * (i + 1) for i in range(self.epoch)]\n",
    "                    self.ax.plot(val_pos, self.losses_val, color=\"orange\", linestyle=\"-\")\n",
    "                    \n",
    "                    self.fig.canvas.draw()\n",
    "                    update_display(self.fig, display_id='plot')\n",
    "\n",
    "            else:\n",
    "                loss_val += loss.item() * x.shape[0]\n",
    "                \n",
    "        if not train:\n",
    "            loss_val_avg = loss_val / len(dsvalid)\n",
    "            self.losses_val.append(loss_val_avg)\n"
   ]
  },
  {
   "cell_type": "code",
   "execution_count": 105,
   "id": "d4696477",
   "metadata": {},
   "outputs": [],
   "source": [
    "class Metrics:\n",
    "    def __init__(self):\n",
    "        self.reset()\n",
    "    \n",
    "    def reset(self):\n",
    "        self.vals, self.ns = [], []\n",
    "        \n",
    "    def add(self, inp, targets=None, n=1):\n",
    "        self.last = self.calc(inp, targets)\n",
    "        self.vals.append(self.last)\n",
    "        self.ns.append(n)\n",
    "    \n",
    "    @property\n",
    "    def value(self):\n",
    "        ns = tensor(self.ns)\n",
    "        return (tensor(self.vals) * ns).sum() / np.sum(self.ns)\n",
    "    \n",
    "    def calc(self, inp, targets):\n",
    "        return inp"
   ]
  },
  {
   "cell_type": "code",
   "execution_count": 106,
   "id": "33345675",
   "metadata": {},
   "outputs": [],
   "source": [
    "class Accuracy(Metrics):\n",
    "    def __init__(self):\n",
    "        super().__init__()\n",
    "    \n",
    "    def calc(self, inp, targets):\n",
    "        return (inp == targets).float().mean()"
   ]
  },
  {
   "cell_type": "code",
   "execution_count": 107,
   "id": "b022cd0f-876a-488c-8a0a-6c72039ed476",
   "metadata": {},
   "outputs": [],
   "source": [
    "def init_model(m):\n",
    "    if isinstance(m, nn.Linear):\n",
    "        nn.init.kaiming_normal_(m.weight, a=0.1)\n",
    "        if m.bias is not None: nn.init.constant_(m.bias, 0.0)"
   ]
  },
  {
   "cell_type": "code",
   "execution_count": 108,
   "id": "a3c72609-8a70-4c58-b0fd-4862e112582b",
   "metadata": {},
   "outputs": [
    {
     "data": {
      "text/plain": [
       "(1652, 14)"
      ]
     },
     "execution_count": 108,
     "metadata": {},
     "output_type": "execute_result"
    }
   ],
   "source": [
    "dfvalid.shape"
   ]
  },
  {
   "cell_type": "code",
   "execution_count": 109,
   "id": "80a90a2e-72d7-4290-9585-ed0a698fc59a",
   "metadata": {},
   "outputs": [
    {
     "data": {
      "text/plain": [
       "(1652, 23)"
      ]
     },
     "execution_count": 109,
     "metadata": {},
     "output_type": "execute_result"
    }
   ],
   "source": [
    "clean_df(dfvalid).shape"
   ]
  },
  {
   "cell_type": "code",
   "execution_count": 110,
   "id": "6fd6600a-491f-474c-8905-6596400746d3",
   "metadata": {},
   "outputs": [
    {
     "data": {
      "text/plain": [
       "((7041, 23), (1652, 23))"
      ]
     },
     "execution_count": 110,
     "metadata": {},
     "output_type": "execute_result"
    }
   ],
   "source": [
    "device = 'cuda' if torch.cuda.is_available() else 'cpu'\n",
    "\n",
    "dstrain, dsvalid = SpaceTitanic(dftrain, fillmode=\"mode\", device=device), SpaceTitanic(dfvalid, fillmode=\"mode\", device=device)\n",
    "\n",
    "dstrain.clean_ds.shape, dsvalid.clean_ds.shape"
   ]
  },
  {
   "cell_type": "code",
   "execution_count": 111,
   "id": "be9ee744-77ca-4644-ba02-87e2f9fdcc84",
   "metadata": {},
   "outputs": [],
   "source": [
    "bs = 16\n",
    "dls = DataLoader(dstrain, batch_size=bs), DataLoader(dsvalid, batch_size=bs * 4)\n",
    "n_features = dstrain.clean_ds.shape[1] - 1\n",
    "\n",
    "model = SpaceTitanicModel(n_features, 1, 300, 10)\n",
    "model.apply(init_model)\n",
    "\n",
    "lr = 0.00005\n",
    "opt = optim.AdamW(model.parameters(), lr=lr)\n",
    "n_epochs = 3\n",
    "sched = CosineAnnealingLR(opt, n_epochs * len(dls), lr * 0.01)"
   ]
  },
  {
   "cell_type": "code",
   "execution_count": 112,
   "id": "e290e029",
   "metadata": {},
   "outputs": [],
   "source": [
    "learn = Learner(model, dls, loss_fn=F.binary_cross_entropy_with_logits, opt=opt, sched=sched, device=device)"
   ]
  },
  {
   "cell_type": "code",
   "execution_count": null,
   "id": "584ab9dd",
   "metadata": {
    "tags": []
   },
   "outputs": [
    {
     "data": {
      "image/png": "[encoded data removed]",
      "text/plain": [
       "<Figure size 432x288 with 1 Axes>"
      ]
     },
     "metadata": {},
     "output_type": "display_data"
    },
    {
     "name": "stderr",
     "output_type": "stream",
     "text": [
      "  0%|          | 0/3 [00:00<?, ?it/s]"
     ]
    }
   ],
   "source": [
    "learn.fit(n_epochs)"
   ]
  },
  {
   "cell_type": "code",
   "execution_count": 313,
   "id": "d10e4b5c",
   "metadata": {},
   "outputs": [],
   "source": [
    "dltest = SpaceTitanic(dftest, train=False, bs=64)"
   ]
  },
  {
   "cell_type": "code",
   "execution_count": 314,
   "id": "1479557f",
   "metadata": {},
   "outputs": [
    {
     "data": {
      "text/plain": [
       "tensor([0.6931, 3.3322, 0.0000, 0.0000, 0.0000, 0.0000, 0.0000, 0.0000, 1.0000,\n",
       "        0.0000, 0.0000, 0.0000, 0.0000, 0.0000, 0.0000, 0.0000, 0.0000, 1.0000,\n",
       "        0.0000, 0.0000, 0.0000, 1.0000])"
      ]
     },
     "execution_count": 314,
     "metadata": {},
     "output_type": "execute_result"
    }
   ],
   "source": [
    "next(iter(dltest))"
   ]
  },
  {
   "cell_type": "code",
   "execution_count": 288,
   "id": "78b7f088-b743-4caa-b38f-ce069fe26295",
   "metadata": {},
   "outputs": [
    {
     "data": {
      "text/plain": [
       "torch.Size([16, 22])"
      ]
     },
     "execution_count": 288,
     "metadata": {},
     "output_type": "execute_result"
    }
   ],
   "source": [
    "next(iter(dls[0]))[0].shape"
   ]
  },
  {
   "cell_type": "code",
   "execution_count": 289,
   "id": "89bed09e-b965-4f97-9afe-de3158e20058",
   "metadata": {},
   "outputs": [
    {
     "data": {
      "text/plain": [
       "1.6487212707001282"
      ]
     },
     "execution_count": 289,
     "metadata": {},
     "output_type": "execute_result"
    }
   ],
   "source": [
    "np.exp(0.5)"
   ]
  },
  {
   "cell_type": "code",
   "execution_count": null,
   "id": "263b4140-4844-4cfc-8dca-0c533f71eaf6",
   "metadata": {},
   "outputs": [],
   "source": []
  }
 ],
 "metadata": {
  "kernelspec": {
   "display_name": "Python 3 (ipykernel)",
   "language": "python",
   "name": "python3"
  },
  "language_info": {
   "codemirror_mode": {
    "name": "ipython",
    "version": 3
   },
   "file_extension": ".py",
   "mimetype": "text/x-python",
   "name": "python",
   "nbconvert_exporter": "python",
   "pygments_lexer": "ipython3",
   "version": "3.9.13"
  }
 },
 "nbformat": 4,
 "nbformat_minor": 5
}
