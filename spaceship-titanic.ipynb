{
 "cells": [
  {
   "cell_type": "code",
   "execution_count": null,
   "id": "7a8b1776-3f36-403e-98a0-e7f559712145",
   "metadata": {},
   "outputs": [],
   "source": [
    "import pandas as pd\n",
    "import torch\n",
    "from torch import nn, optim\n",
    "import torch.nn.functional as F\n",
    "\n",
    "from torch.utils.data import Dataset, DataLoader \n",
    "import numpy as np\n",
    "\n",
    "import warnings\n",
    "warnings.simplefilter(action='ignore', category=FutureWarning)"
   ]
  },
  {
   "cell_type": "code",
   "execution_count": null,
   "id": "379f6f1b-61ef-4cfa-b244-bdcf8ec36f47",
   "metadata": {},
   "outputs": [],
   "source": [
    "from pathlib import Path"
   ]
  },
  {
   "cell_type": "code",
   "execution_count": null,
   "id": "72d26677-4ef1-4400-be58-21a8f2bdaf41",
   "metadata": {},
   "outputs": [],
   "source": [
    "dftrain = pd.read_csv(Path('./data/spaceship-titanic/train.csv'))\n",
    "dftest = pd.read_csv(Path('./data/spaceship-titanic/test.csv'))"
   ]
  },
  {
   "cell_type": "code",
   "execution_count": null,
   "id": "cba5f4c1-70e6-42a0-a9c0-ae5cc8747808",
   "metadata": {},
   "outputs": [],
   "source": [
    "dftrain"
   ]
  },
  {
   "cell_type": "code",
   "execution_count": null,
   "id": "551ac655-0a14-4e9d-875d-1fc5bc9d3c86",
   "metadata": {},
   "outputs": [],
   "source": [
    "dftrain.isna().sum()"
   ]
  },
  {
   "cell_type": "code",
   "execution_count": null,
   "id": "307e0d86-0d93-42ac-b1d6-3b26590dd5cf",
   "metadata": {},
   "outputs": [],
   "source": [
    "dftrain.fillna(dftrain.mode()).isna().sum()"
   ]
  },
  {
   "cell_type": "code",
   "execution_count": null,
   "id": "370b2969-a912-4d9d-a965-42ea56aa2555",
   "metadata": {},
   "outputs": [],
   "source": [
    "cats = ['HomePlanet', 'Cabin', 'Destination']\n",
    "conts = ['CryoSleep', 'Age', 'VIP', 'RoomService', 'FoodCourt', 'ShoppingMall', 'Spa', 'VRDeck']"
   ]
  },
  {
   "cell_type": "code",
   "execution_count": null,
   "id": "17a3db80-99f3-4e5c-96cc-58eef0244b0b",
   "metadata": {},
   "outputs": [],
   "source": [
    "dftrain['Cabin'].str[0].unique()"
   ]
  },
  {
   "cell_type": "code",
   "execution_count": null,
   "id": "1efb3bf5-135e-4303-8e21-331372c5cb33",
   "metadata": {},
   "outputs": [],
   "source": [
    "dftrain['Destination'].unique()"
   ]
  },
  {
   "cell_type": "code",
   "execution_count": null,
   "id": "8917b58d-c1ae-4cae-a4f5-5c601bea006e",
   "metadata": {},
   "outputs": [],
   "source": [
    "def clean_df(df, fillmode='median'):\n",
    "    df = df.drop(['PassengerId', 'Name'], axis = 1)\n",
    "    \n",
    "    df['Cabin'] = df['Cabin'].str[0]\n",
    "\n",
    "    df = pd.get_dummies(df, columns=cats)\n",
    "    \n",
    "    fill_method = getattr(df, fillmode)\n",
    "    df = df.fillna(fill_method())\n",
    "    \n",
    "    for cont in conts:\n",
    "        df[cont] = np.log1p(df[cont].astype(float))\n",
    "    \n",
    "    \n",
    "    return df"
   ]
  },
  {
   "cell_type": "code",
   "execution_count": null,
   "id": "85258172-836c-4496-b0ca-ea7ba47f8b4a",
   "metadata": {},
   "outputs": [],
   "source": [
    "clean_df(dftrain).astype(float).head()"
   ]
  },
  {
   "cell_type": "code",
   "execution_count": null,
   "id": "7b5b908f-5062-4c56-b331-35a22301fee0",
   "metadata": {},
   "outputs": [],
   "source": [
    "class SpaceTitanic(Dataset):\n",
    "    def __init__(self, df, fillmode='median', train=True):\n",
    "        self.train = train\n",
    "        self.clean_ds = clean_df(df, fillmode)\n",
    "        \n",
    "    def __getitem__(self, i):\n",
    "        row = self.clean_ds.iloc[i].astype(np.float32)\n",
    "        x = torch.tensor(row.drop(labels=['Transported']))\n",
    "        y = torch.tensor(row.loc(axis=0)['Transported'])\n",
    "        return x, y\n",
    "        \n",
    "    def __len__(self):\n",
    "        return len(self.clean_ds)"
   ]
  },
  {
   "cell_type": "code",
   "execution_count": null,
   "id": "33e421af-da31-4e97-ad2c-372a5a6825fe",
   "metadata": {},
   "outputs": [],
   "source": [
    "class Block(nn.Module):\n",
    "    def __init__(self, n_in, n_out):\n",
    "        super().__init__()\n",
    "        self.net = nn.Sequential(\n",
    "            nn.Linear(n_in, n_out),\n",
    "            nn.ReLU(),\n",
    "            nn.LayerNorm(n_in),\n",
    "        )\n",
    "        \n",
    "    def forward(self, x):\n",
    "        return self.net(x)\n",
    "\n",
    "class SpaceTitanicModel(nn.Module):\n",
    "    def __init__(self, n_in, n_out, n_h, n_hidden_layers=5):\n",
    "        super().__init__()\n",
    "        self.model = nn.Sequential(\n",
    "            Block(n_in, n_h),\n",
    "            *[Block(n_h, n_h) for i in range(n_hidden_layers)],\n",
    "            Block(n_h, n_out)\n",
    "        )\n",
    "        \n",
    "    def forward(self, x):\n",
    "        return self.model(x)"
   ]
  },
  {
   "cell_type": "code",
   "execution_count": null,
   "id": "6fd6600a-491f-474c-8905-6596400746d3",
   "metadata": {},
   "outputs": [],
   "source": [
    "ds = SpaceTitanic(dftrain)"
   ]
  },
  {
   "cell_type": "code",
   "execution_count": null,
   "id": "bea5f747",
   "metadata": {},
   "outputs": [],
   "source": [
    "def normalize(tns): return (tns - tns.mean()) / tns.std()"
   ]
  },
  {
   "cell_type": "code",
   "execution_count": null,
   "id": "5aacb59c-e216-4549-8626-137dafc2ef21",
   "metadata": {},
   "outputs": [],
   "source": [
    "class Learner():\n",
    "    def __init__(self, model, dls, opt_fn=optim.SGD, loss_fn=F.mse_loss):\n",
    "        self.model = model\n",
    "        self.dls = dls\n",
    "        self.opt = opt_fn(model.parameters(), lr=1e-3)\n",
    "        self.loss_fn = loss_fn\n",
    "        \n",
    "    def fit(self, epochs=10):\n",
    "        for epoch in range(epochs):\n",
    "            for x, y in self.dls:\n",
    "                x = normalize(x)\n",
    "                pred = self.model(x)\n",
    "                pred = pred.view(-1)\n",
    "                loss = self.loss_fn(pred, y)\n",
    "                loss.backward()\n",
    "                self.opt.step()\n",
    "                self.opt.zero_grad()\n",
    "                \n",
    "                print(loss.item())"
   ]
  },
  {
   "cell_type": "code",
   "execution_count": null,
   "id": "be9ee744-77ca-4644-ba02-87e2f9fdcc84",
   "metadata": {},
   "outputs": [],
   "source": [
    "bs = 32\n",
    "dl = DataLoader(ds, batch_size=bs)\n",
    "n_features = ds.clean_ds.shape[1] - 1\n",
    "model = SpaceTitanicModel(n_features, 1, 10, 1)"
   ]
  },
  {
   "cell_type": "code",
   "execution_count": null,
   "id": "e290e029",
   "metadata": {},
   "outputs": [],
   "source": [
    "learn = Learner(model, dl, loss_fn=F.binary_cross_entropy_with_logits, opt_fn=optim.AdamW)"
   ]
  },
  {
   "cell_type": "code",
   "execution_count": null,
   "id": "584ab9dd",
   "metadata": {},
   "outputs": [],
   "source": [
    "learn.fit()"
   ]
  },
  {
   "cell_type": "code",
   "execution_count": null,
   "id": "d10e4b5c",
   "metadata": {},
   "outputs": [],
   "source": [
    "ds.clean_ds"
   ]
  },
  {
   "cell_type": "code",
   "execution_count": null,
   "id": "1cb61694",
   "metadata": {},
   "outputs": [],
   "source": []
  }
 ],
 "metadata": {
  "kernelspec": {
   "display_name": "venv",
   "language": "python",
   "name": "python3"
  },
  "language_info": {
   "codemirror_mode": {
    "name": "ipython",
    "version": 3
   },
   "file_extension": ".py",
   "mimetype": "text/x-python",
   "name": "python",
   "nbconvert_exporter": "python",
   "pygments_lexer": "ipython3",
   "version": "3.12.2"
  }
 },
 "nbformat": 4,
 "nbformat_minor": 5
}
